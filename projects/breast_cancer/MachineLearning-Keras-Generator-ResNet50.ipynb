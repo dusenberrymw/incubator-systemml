{
 "cells": [
  {
   "cell_type": "code",
   "execution_count": null,
   "metadata": {
    "collapsed": false
   },
   "outputs": [],
   "source": [
    "%load_ext autoreload\n",
    "%autoreload 2\n",
    "%matplotlib inline\n",
    "\n",
    "import math\n",
    "import multiprocessing as mp\n",
    "import os\n",
    "import queue\n",
    "import shutil\n",
    "import threading\n",
    "\n",
    "from keras.applications.resnet50 import ResNet50, preprocess_input\n",
    "from keras.callbacks import ModelCheckpoint, TensorBoard\n",
    "from keras.initializations import get_fans, normal\n",
    "from keras.layers import Activation, Dense, Dropout, Flatten, Input, Lambda, Permute, Reshape, merge\n",
    "from keras.models import Model\n",
    "from keras.optimizers import SGD\n",
    "from keras.utils.np_utils import to_categorical\n",
    "import keras.backend as K\n",
    "import matplotlib.pyplot as plt\n",
    "import numpy as np\n",
    "import pandas as pd\n",
    "import tensorflow as tf\n",
    "\n",
    "from breast_cancer import input_data\n",
    "\n",
    "plt.rcParams['figure.figsize'] = (10, 6)"
   ]
  },
  {
   "cell_type": "code",
   "execution_count": null,
   "metadata": {
    "collapsed": true
   },
   "outputs": [],
   "source": [
    "#from pyspark.sql import SparkSession\n",
    "#spark = (SparkSession.builder.appName(\"KerasResNet50\").getOrCreate())"
   ]
  },
  {
   "cell_type": "code",
   "execution_count": null,
   "metadata": {
    "collapsed": false
   },
   "outputs": [],
   "source": [
    "# os.environ['CUDA_VISIBLE_DEVICES'] = \"0\"\n",
    "# c = tf.ConfigProto()\n",
    "# c.gpu_options.visible_device_list=\"0\"\n",
    "# sess = tf.Session(config=c)\n",
    "# K.set_session(sess)"
   ]
  },
  {
   "cell_type": "code",
   "execution_count": null,
   "metadata": {
    "collapsed": true
   },
   "outputs": [],
   "source": [
    "EXPERIMENT = \"resnet50-collect-0.02-multi-gpu\""
   ]
  },
  {
   "cell_type": "markdown",
   "metadata": {},
   "source": [
    "# Setup model and log directories"
   ]
  },
  {
   "cell_type": "code",
   "execution_count": null,
   "metadata": {
    "collapsed": false
   },
   "outputs": [],
   "source": [
    "def get_run_dir(path):\n",
    "  \"\"\"Create a new directory for this training run.\"\"\"\n",
    "  os.makedirs(path, exist_ok=True)\n",
    "  run = len(os.listdir(path))  # run 0, 1, 2, ...\n",
    "  run_dir = os.path.join(path, str(run))\n",
    "  os.makedirs(run_dir)\n",
    "  return run_dir\n",
    "\n",
    "def get_log_dir(experiment):\n",
    "  \"\"\"Create a log directory for this experiment.\"\"\"\n",
    "  base_log_dir = os.path.join(\"tf_logs\", \"keras\", experiment)\n",
    "  log_dir = get_run_dir(base_log_dir)\n",
    "  return log_dir\n",
    "\n",
    "def get_model_dir(experiment):\n",
    "  \"\"\"Create a model directory for this experiment.\"\"\"\n",
    "  base_model_dir = os.path.join(\"models\", \"keras\", experiment)\n",
    "  model_dir = get_run_dir(base_model_dir)\n",
    "  return model_dir\n",
    "\n",
    "log_dir = get_log_dir(EXPERIMENT)\n",
    "model_dir = get_model_dir(EXPERIMENT)\n",
    "print(log_dir, model_dir)"
   ]
  },
  {
   "cell_type": "markdown",
   "metadata": {},
   "source": [
    "# Read in train & val data"
   ]
  },
  {
   "cell_type": "code",
   "execution_count": null,
   "metadata": {
    "collapsed": true
   },
   "outputs": [],
   "source": [
    "SIZE = 256\n",
    "CHANNELS = 3\n",
    "FEATURES = SIZE * SIZE * CHANNELS\n",
    "CLASSES = 3\n",
    "p = 0.02"
   ]
  },
  {
   "cell_type": "code",
   "execution_count": null,
   "metadata": {
    "collapsed": false
   },
   "outputs": [],
   "source": [
    "train_df, val_df = input_data.read_train_val_data(spark, SIZE, CHANNELS, p)\n",
    "\n",
    "p = 0.01  # just for val\n",
    "# Debug generators -- use NumPy array\n",
    "# tr_filename = os.path.join(\"data\", \"train_{}_sample_{}.parquet\".format(p, SIZE))\n",
    "val_filename = os.path.join(\"data\", \"val_{}_sample_{}.parquet\".format(p, SIZE))\n",
    "# train_df = spark.read.load(tr_filename)\n",
    "val_df = spark.read.load(val_filename)"
   ]
  },
  {
   "cell_type": "code",
   "execution_count": null,
   "metadata": {
    "collapsed": true
   },
   "outputs": [],
   "source": [
    "train_df.cache()\n",
    "val_df.cache()"
   ]
  },
  {
   "cell_type": "code",
   "execution_count": null,
   "metadata": {
    "collapsed": false,
    "scrolled": true
   },
   "outputs": [],
   "source": [
    "tc = train_df.count()\n",
    "vc = val_df.count()\n",
    "print(tc, vc)\n",
    "# print(train_df.rdd.getNumPartitions(), val_df.rdd.getNumPartitions())"
   ]
  },
  {
   "cell_type": "markdown",
   "metadata": {},
   "source": [
    "## Compute image channel means"
   ]
  },
  {
   "cell_type": "code",
   "execution_count": null,
   "metadata": {
    "collapsed": false
   },
   "outputs": [],
   "source": [
    "means = input_data.compute_channel_means(train_df, CHANNELS, SIZE)\n",
    "print(means.shape)\n",
    "print(means)"
   ]
  },
  {
   "cell_type": "markdown",
   "metadata": {},
   "source": [
    "## Generate class weights for training"
   ]
  },
  {
   "cell_type": "code",
   "execution_count": null,
   "metadata": {
    "collapsed": false,
    "scrolled": true
   },
   "outputs": [],
   "source": [
    "class_weights = input_data.gen_class_weights(train_df)\n",
    "print(class_weights)"
   ]
  },
  {
   "cell_type": "markdown",
   "metadata": {},
   "source": [
    "## Create asynchronous queuing batch generators"
   ]
  },
  {
   "cell_type": "code",
   "execution_count": null,
   "metadata": {
    "collapsed": true
   },
   "outputs": [],
   "source": [
    "# # Create train & val generators\n",
    "batch_size = 128\n",
    "# train_generator_orig, train_ps, train_queues, train_stop_event = input_data.create_batch_generator(train_df.rdd, batch_size=batch_size)\n",
    "# val_generator_orig, val_ps, val_queues, val_stop_event = input_data.create_batch_generator(val_df.rdd, batch_size=batch_size)"
   ]
  },
  {
   "cell_type": "code",
   "execution_count": null,
   "metadata": {
    "collapsed": false
   },
   "outputs": [],
   "source": [
    "# # Debugging - Print queue sizes\n",
    "# for q in train_queues + val_queues:\n",
    "#   print(q.qsize())"
   ]
  },
  {
   "cell_type": "markdown",
   "metadata": {
    "collapsed": true
   },
   "source": [
    "# Keras"
   ]
  },
  {
   "cell_type": "markdown",
   "metadata": {},
   "source": [
    "## ResNet50\n",
    "1. Read in 256x256x3 dataframe.\n",
    "2. Create random crops to 224x224x3.\n",
    "3. Setup ResNet50 pretrained model with new input & output layers.\n",
    "4. Train new output layers (all others frozen).\n",
    "5. Fine tune additional layers.\n",
    "6. Profit."
   ]
  },
  {
   "cell_type": "code",
   "execution_count": null,
   "metadata": {
    "collapsed": true
   },
   "outputs": [],
   "source": [
    "# Preprocess with slide image means\n",
    "# Adapted from keras/applications/imagenet_utils.py\n",
    "def preprocess_input(x):\n",
    "    \"\"\"Preprocesses a tensor encoding a batch of images.\n",
    "    # Arguments\n",
    "        x: input Numpy tensor, 4D.\n",
    "    # Returns\n",
    "        Preprocessed tensor.\n",
    "    \"\"\"\n",
    "    # 'RGB'->'BGR'\n",
    "    x = x[:, :, :, ::-1]\n",
    "    # Zero-center by mean pixel\n",
    "    # `means` is stored in RGB, but we need BGR\n",
    "    x[:, :, :, 0] -= means[2]  #103.939\n",
    "    x[:, :, :, 1] -= means[0]  #116.779\n",
    "    x[:, :, :, 2] -= means[1]  #123.68\n",
    "    return x"
   ]
  },
  {
   "cell_type": "code",
   "execution_count": null,
   "metadata": {
    "collapsed": false
   },
   "outputs": [],
   "source": [
    "# def to_categorical(y, classes):\n",
    "#   # Avoid cast to float64 as done in keras.utils.np_utils.to_categorical\n",
    "#   n = len(y)\n",
    "#   Y = np.zeros((n, classes), dtype=np.int32)\n",
    "#   Y[np.arange(n), y] = 1\n",
    "#   return Y\n",
    "\n",
    "# TODO: Clean this up -- remove access to global variables\n",
    "def gen_preprocessed_batch(batch_generator):\n",
    "  for xs, ys in batch_generator:\n",
    "    xs = (xs.reshape((-1,CHANNELS,SIZE,SIZE))  # shape (N,C,H,W)\n",
    "            .transpose((0,2,3,1))  # shape (N,H,W,C)\n",
    "            .astype(np.float32))\n",
    "    yield preprocess_input(xs), to_categorical(ys-1, CLASSES)"
   ]
  },
  {
   "cell_type": "code",
   "execution_count": null,
   "metadata": {
    "collapsed": true
   },
   "outputs": [],
   "source": [
    "# # Create train & val preprocessed generators\n",
    "# train_generator = gen_preprocessed_batch(train_generator_orig)\n",
    "# val_generator = gen_preprocessed_batch(val_generator_orig)\n",
    "\n",
    "###\n",
    "# Debug generators -- use NumPy array\n",
    "def to_arrays(df):\n",
    "  rows = (df.select(\"sample\", \"tumor_score\")\n",
    "            .rdd\n",
    "            .map(lambda row: (np.array(row.sample.values).astype(np.uint8), row.tumor_score))\n",
    "            .collect())\n",
    "  x_rows, y_rows = zip(*rows)\n",
    "  x = (np.array(x_rows)\n",
    "         .reshape((-1,CHANNELS,SIZE,SIZE))  # shape (N,C,H,W)\n",
    "         .transpose((0,2,3,1))\n",
    "         .astype(np.float32))  # shape (N,H,W,C)\n",
    "  y = np.array(y_rows).astype(np.uint32)\n",
    "  return preprocess_input(x), to_categorical(y-1, CLASSES)\n",
    "\n",
    "train_x, train_y = to_arrays(train_df)\n",
    "val_x, val_y = to_arrays(val_df)\n",
    "\n",
    "# Multi-GPU exploitation\n",
    "# Determine equal split size and split tensors, even if it means throwing away a few examples.\n",
    "def split(x, num_splits):\n",
    "  \"\"\"Split batch into K equal-sized batches.\"\"\"\n",
    "  samples = x.shape[0] // num_splits\n",
    "  x_splits = [arr[:samples] for arr in np.array_split(x, num_splits)]\n",
    "  return x_splits\n",
    "\n",
    "num_gpus = 2\n",
    "train_x = split(train_x, num_gpus)\n",
    "train_y = split(train_y, num_gpus)\n",
    "val_x = split(val_x, num_gpus)\n",
    "val_y = split(val_y, num_gpus)\n",
    "###"
   ]
  },
  {
   "cell_type": "code",
   "execution_count": null,
   "metadata": {
    "collapsed": true
   },
   "outputs": [],
   "source": [
    "# Setup training callbacks\n",
    "# Careful, TensorBoard callback could OOM with large validation set\n",
    "model_filename = os.path.join(model_dir, \"{val_loss:.2f}-{epoch:02d}.hdf5\")\n",
    "checkpointer = ModelCheckpoint(model_filename)\n",
    "tensorboard = TensorBoard(log_dir=log_dir)  #, histogram_freq=1, write_images=True)\n",
    "callbacks = [checkpointer, tensorboard]"
   ]
  },
  {
   "cell_type": "code",
   "execution_count": null,
   "metadata": {
    "collapsed": true
   },
   "outputs": [],
   "source": [
    "# Custom final dense layer initializer\n",
    "def my_init(shape, name=None, dim_ordering='tf'):\n",
    "    \"\"\"Guassian scaled by sqrt(1/fan_in)\"\"\"\n",
    "    fan_in, fan_out = get_fans(shape, dim_ordering=dim_ordering)\n",
    "    s = np.sqrt(1. / fan_in)\n",
    "    return normal(shape, s, name=name)"
   ]
  },
  {
   "cell_type": "code",
   "execution_count": null,
   "metadata": {
    "collapsed": false
   },
   "outputs": [],
   "source": [
    "# Create model by replacing classifier of ResNet50 model with new classifier\n",
    "# specific for the breast cancer problem.\n",
    "inputs = Input(shape=(SIZE,SIZE,CHANNELS))\n",
    "resnet50 = ResNet50(include_top=False)\n",
    "x = resnet50(inputs)\n",
    "x = Flatten()(x)\n",
    "preds = Dense(CLASSES, init=my_init, activation=\"softmax\")(x)\n",
    "model = Model(input=inputs, output=preds)\n",
    "\n",
    "# Multi-GPU exploitation via a linear combination of GPU loss functions.\n",
    "x0 = Input(shape=(SIZE,SIZE,CHANNELS))  # first split of batch\n",
    "x1 = Input(shape=(SIZE,SIZE,CHANNELS))  # second split of batch\n",
    "with tf.device(\"/gpu:0\"):\n",
    "  out0 = model(x0)  # run first split on shared model\n",
    "with tf.device(\"/gpu:1\"):\n",
    "  out1 = model(x1)  # run second split on shared model\n",
    "model = Model(input=[x0, x1], output=[out0, out1])  # data-parallel model\n",
    "\n",
    "# Freeze all pre-trained ResNet layers.\n",
    "for layer in resnet50.layers:\n",
    "  layer.trainable = False\n",
    "\n",
    "# Compile model.\n",
    "optim = SGD(lr=0.01, momentum=0.5, decay=0.0, nesterov=True)\n",
    "# model.compile(optimizer=optim, loss=\"categorical_crossentropy\", metrics=['accuracy'])\n",
    "model.compile(optimizer=optim, loss=\"categorical_crossentropy\",\n",
    "              loss_weights=[1/num_gpus, 1/num_gpus], metrics=['accuracy'])"
   ]
  },
  {
   "cell_type": "code",
   "execution_count": null,
   "metadata": {
    "collapsed": false
   },
   "outputs": [],
   "source": [
    "# # Train the new softmax layer\n",
    "train_samples = math.ceil(tc/batch_size) * batch_size\n",
    "val_samples = math.ceil(vc/batch_size) * batch_size\n",
    "epochs = 1  #10\n",
    "# model.fit_generator(train_generator, samples_per_epoch=train_samples, nb_epoch=epochs,\n",
    "#                     validation_data=val_generator, nb_val_samples=val_samples,\n",
    "#                     class_weight=class_weights, callbacks=callbacks,\n",
    "#                     nb_worker=1, pickle_safe=True)\n",
    "\n",
    "###\n",
    "# Debug generators -- use NumPy array\n",
    "# model.fit(train_x, train_y, batch_size=batch_size, validation_data=[val_x, val_y],\n",
    "#           nb_epoch=epochs, class_weight=class_weights, callbacks=callbacks)\n",
    "# Multi-GPU: Speedup 1000s/epoch -> 620s/epoch (1.6x) for batch_size=32, 608s/epoch for batch_size=128\n",
    "# TODO: Edit https://github.com/fchollet/keras/blob/c07d0e6448bb63762bc7a19d87814f6fba79fa32/keras/engine/training.py#L659-L659\n",
    "#  to place each loss function on the device of `y_pred` w/ `with tf.device(y_pred.device):`\n",
    "#  Speedup: 620s/epoch -> 646s (need to look into this more....)\n",
    "model.fit(train_x, train_y, batch_size=batch_size, validation_data=[val_x, val_y],\n",
    "          nb_epoch=epochs, class_weight=class_weights, callbacks=callbacks)\n",
    "###"
   ]
  },
  {
   "cell_type": "code",
   "execution_count": null,
   "metadata": {
    "collapsed": false
   },
   "outputs": [],
   "source": [
    "# Fine tune by unfreezing the rest of the model   ##final 2 identity blocks\n",
    "# and train slowly with low lr.\n",
    "for layer in base_model.layers:  #[-21:]:\n",
    "  layer.trainable = True\n",
    "\n",
    "optim = SGD(lr=0.0001, momentum=0.9)\n",
    "model.compile(optimizer=optim, loss='categorical_crossentropy', metrics=['accuracy'])"
   ]
  },
  {
   "cell_type": "code",
   "execution_count": null,
   "metadata": {
    "collapsed": false
   },
   "outputs": [],
   "source": [
    "initial_epoch = epochs\n",
    "epochs = initial_epoch + 1  #15\n",
    "# model.fit_generator(train_generator, samples_per_epoch=train_samples, nb_epoch=epochs,\n",
    "#                     validation_data=val_generator, nb_val_samples=val_samples,\n",
    "#                     nb_worker=1, pickle_safe=True)\n",
    "\n",
    "###\n",
    "# Debug generators -- use NumPy array\n",
    "model.fit(train_x, train_y, batch_size=batch_size, validation_data=[val_x, val_y],\n",
    "          nb_epoch=epochs, initial_epoch=initial_epoch,\n",
    "          class_weight=class_weights, callbacks=callbacks)\n",
    "###"
   ]
  },
  {
   "cell_type": "code",
   "execution_count": null,
   "metadata": {
    "collapsed": false
   },
   "outputs": [],
   "source": [
    "# # Evaluate model on validation set\n",
    "# raw_metrics = model.evaluate_generator(val_generator, val_samples=val_samples)\n",
    "# metrics = dict(zip(model.metrics_names, raw_metrics))\n",
    "# print(metrics)\n",
    "\n",
    "###\n",
    "# Debug generators -- use NumPy array\n",
    "raw_metrics = model.evaluate(val_x, val_y, batch_size=batch_size)\n",
    "metrics = dict(zip(model.metrics_names, raw_metrics))\n",
    "print(metrics)\n",
    "###"
   ]
  },
  {
   "cell_type": "code",
   "execution_count": null,
   "metadata": {
    "collapsed": false
   },
   "outputs": [],
   "source": [
    "# Multi-GPU - TODO: Generalize this\n",
    "accuracies = [v for k,v in list(zip(model.metrics_names, raw_metrics)) if k.endswith(\"acc\")]\n",
    "losses = [v for k,v in list(zip(model.metrics_names, raw_metrics)) if k.endswith(\"_loss\")]\n",
    "metrics = {}\n",
    "metrics[\"acc\"] = sum(accuracies) / len(accuracies)\n",
    "metrics[\"loss\"] = sum(losses) / len(losses)\n",
    "metrics"
   ]
  },
  {
   "cell_type": "code",
   "execution_count": null,
   "metadata": {
    "collapsed": false
   },
   "outputs": [],
   "source": [
    "# Save model\n",
    "filename = \"{acc:.5}_acc_{loss:.5}_loss_model.hdf5\".format(**metrics)\n",
    "model.save(os.path.join(model_dir, filename))"
   ]
  },
  {
   "cell_type": "code",
   "execution_count": null,
   "metadata": {
    "collapsed": true
   },
   "outputs": [],
   "source": [
    "# TODO: Monitor size of input queues with callbacks"
   ]
  }
 ],
 "metadata": {
  "anaconda-cloud": {},
  "kernelspec": {
   "display_name": "Python 3",
   "language": "python",
   "name": "python3"
  },
  "language_info": {
   "codemirror_mode": {
    "name": "ipython",
    "version": 3
   },
   "file_extension": ".py",
   "mimetype": "text/x-python",
   "name": "python",
   "nbconvert_exporter": "python",
   "pygments_lexer": "ipython3",
   "version": "3.6.0"
  }
 },
 "nbformat": 4,
 "nbformat_minor": 1
}
