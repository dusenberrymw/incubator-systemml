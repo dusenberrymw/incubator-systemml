{
 "cells": [
  {
   "cell_type": "code",
   "execution_count": null,
   "metadata": {
    "collapsed": false
   },
   "outputs": [],
   "source": [
    "%load_ext autoreload\n",
    "%autoreload 2\n",
    "%matplotlib inline\n",
    "\n",
    "import matplotlib.pyplot as plt\n",
    "import numpy as np\n",
    "import pandas as pd\n",
    "import systemml  # pip3 install systemml\n",
    "from systemml import MLContext, dml, pydml\n",
    "\n",
    "plt.rcParams['figure.figsize'] = (10, 6)"
   ]
  },
  {
   "cell_type": "code",
   "execution_count": null,
   "metadata": {
    "collapsed": false
   },
   "outputs": [],
   "source": [
    "ml = MLContext(sc)"
   ]
  },
  {
   "cell_type": "markdown",
   "metadata": {},
   "source": [
    "# Read in train & val data"
   ]
  },
  {
   "cell_type": "code",
   "execution_count": null,
   "metadata": {
    "collapsed": false
   },
   "outputs": [],
   "source": [
    "train = sqlContext.read.load(\"data/train_100_grayscale.parquet\")\n",
    "val = sqlContext.read.load(\"data/val_100_grayscale.parquet\")\n",
    "train, val"
   ]
  },
  {
   "cell_type": "code",
   "execution_count": null,
   "metadata": {
    "collapsed": true
   },
   "outputs": [],
   "source": [
    "c = 1\n",
    "size = 256"
   ]
  },
  {
   "cell_type": "code",
   "execution_count": null,
   "metadata": {
    "collapsed": false
   },
   "outputs": [],
   "source": [
    "tc = train.count()\n",
    "tc  # 100"
   ]
  },
  {
   "cell_type": "code",
   "execution_count": null,
   "metadata": {
    "collapsed": false
   },
   "outputs": [],
   "source": [
    "vc = val.count()\n",
    "vc  # 100"
   ]
  },
  {
   "cell_type": "markdown",
   "metadata": {},
   "source": [
    "# Extract X and Y"
   ]
  },
  {
   "cell_type": "code",
   "execution_count": null,
   "metadata": {
    "collapsed": false
   },
   "outputs": [],
   "source": [
    "X_df = train.select(\"__INDEX\", \"sample\")\n",
    "X_val_df = val.select(\"__INDEX\", \"sample\")\n",
    "Y_df = train.select(\"__INDEX\", \"tumor_score\")\n",
    "Y_val_df = val.select(\"__INDEX\", \"tumor_score\")\n",
    "X_df, X_val_df, Y_df, Y_val_df"
   ]
  },
  {
   "cell_type": "markdown",
   "metadata": {},
   "source": [
    "# Convert to SystemML Matrices"
   ]
  },
  {
   "cell_type": "code",
   "execution_count": null,
   "metadata": {
    "collapsed": false
   },
   "outputs": [],
   "source": [
    "script = \"\"\"\n",
    "# # Scale images to [0,1]\n",
    "# X = X / 255\n",
    "# X_val = X_val / 255\n",
    "X = X * 2 - 1\n",
    "X_val = X_val * 2 - 1\n",
    "\n",
    "# One-hot encode the labels\n",
    "num_tumor_classes = 3\n",
    "n = nrow(Y)\n",
    "n_val = nrow(Y_val)\n",
    "Y = table(seq(1, n), Y, n, num_tumor_classes)\n",
    "Y_val = table(seq(1, n_val), Y_val, n_val, num_tumor_classes)\n",
    "\"\"\"\n",
    "outputs = (\"X\", \"X_val\", \"Y\", \"Y_val\")\n",
    "script = dml(script).input(X=X_df, X_val=X_val_df, Y=Y_df, Y_val=Y_val_df).output(*outputs)\n",
    "X, X_val, Y, Y_val = ml.execute(script).get(*outputs)\n",
    "X, X_val, Y, Y_val"
   ]
  },
  {
   "cell_type": "markdown",
   "metadata": {},
   "source": [
    "# Softmax Classifier"
   ]
  },
  {
   "cell_type": "markdown",
   "metadata": {},
   "source": [
    "## Train"
   ]
  },
  {
   "cell_type": "code",
   "execution_count": null,
   "metadata": {
    "collapsed": false
   },
   "outputs": [],
   "source": [
    "script = \"\"\"\n",
    "source(\"mnist_softmax.dml\") as clf\n",
    "\n",
    "# Hyperparameters & Settings\n",
    "lr = 5e-5  # learning rate\n",
    "mu = 0.9  # momentum\n",
    "decay = 1  #0.99  # learning rate decay constant\n",
    "batch_size = 50\n",
    "epochs = 100\n",
    "iters = ceil(nrow(Y) / batch_size)\n",
    "\n",
    "# Train\n",
    "[W, b] = clf::train(X, Y, X_val, Y_val, lr, mu, decay, batch_size, epochs, iters)\n",
    "\"\"\"\n",
    "script = dml(script).input(X=X, Y=Y, X_val=X_val, Y_val=Y_val).output(\"W\", \"b\")\n",
    "# script = dml(script).input(X=X_df, X_val=X_val_df, Y=Y_df, Y_val=Y_val_df).output(\"W\", \"b\")\n",
    "W, b = ml.execute(script).get(\"W\", \"b\")\n",
    "W, b"
   ]
  },
  {
   "cell_type": "markdown",
   "metadata": {},
   "source": [
    "## Eval"
   ]
  },
  {
   "cell_type": "code",
   "execution_count": null,
   "metadata": {
    "collapsed": false
   },
   "outputs": [],
   "source": [
    "script = \"\"\"\n",
    "source(\"mnist_softmax.dml\") as clf\n",
    "\n",
    "# Eval\n",
    "probs = clf::predict(X, W, b)\n",
    "[loss, accuracy] = clf::eval(probs, Y)\n",
    "probs_val = clf::predict(X_val, W, b)\n",
    "[loss_val, accuracy_val] = clf::eval(probs_val, Y_val)\n",
    "\"\"\"\n",
    "outputs = (\"loss\", \"accuracy\", \"loss_val\", \"accuracy_val\")\n",
    "script = dml(script).input(X=X, Y=Y, X_val=X_val, Y_val=Y_val, W=W, b=b).output(*outputs)\n",
    "#script = dml(script).input(X=X_df, X_val=X_val_df, Y=Y_df, Y_val=Y_val_df, W=W, b=b).output(*outputs)\n",
    "loss, acc, loss_val, acc_val = ml.execute(script).get(*outputs)\n",
    "loss, acc, loss_val, acc_val"
   ]
  },
  {
   "cell_type": "code",
   "execution_count": null,
   "metadata": {
    "collapsed": false,
    "scrolled": true
   },
   "outputs": [],
   "source": [
    "loss, acc, loss_val, acc_val"
   ]
  },
  {
   "cell_type": "markdown",
   "metadata": {},
   "source": [
    "---"
   ]
  },
  {
   "cell_type": "markdown",
   "metadata": {
    "collapsed": true
   },
   "source": [
    "# LeNet ConvNet"
   ]
  },
  {
   "cell_type": "markdown",
   "metadata": {},
   "source": [
    "## Train"
   ]
  },
  {
   "cell_type": "code",
   "execution_count": null,
   "metadata": {
    "collapsed": false,
    "scrolled": true
   },
   "outputs": [],
   "source": [
    "script = \"\"\"\n",
    "source(\"mnist_lenet.dml\") as clf\n",
    "\n",
    "# Hyperparameters & Settings\n",
    "lr = 5e-5  # learning rate\n",
    "mu = 0.9  # momentum\n",
    "decay = 1  #0.99  # learning rate decay constant\n",
    "lambda = 5e-04\n",
    "batch_size = 50\n",
    "epochs = 2\n",
    "iters = ceil(nrow(Y) / batch_size)\n",
    "dir = \"models/lenet/\"\n",
    "\n",
    "# Train\n",
    "[Wc1, bc1, Wc2, bc2, Wc3, bc3, Wa1, ba1, Wa2, ba2] = clf::train(X, Y, X_val, Y_val, C, Hin, Win, lr, mu, decay, lambda, batch_size, epochs, iters, dir)\n",
    "\"\"\"\n",
    "outputs = (\"Wc1\", \"bc1\", \"Wc2\", \"bc2\", \"Wc3\", \"bc3\", \"Wa1\", \"ba1\", \"Wa2\", \"ba2\")\n",
    "script = (dml(script).input(X=X, X_val=X_val, Y=Y, Y_val=Y_val,\n",
    "                            C=c, Hin=size, Win=size)\n",
    "                     .output(*outputs))\n",
    "Wc1, bc1, Wc2, bc2, Wc3, bc3, Wa1, ba1, Wa2, ba2 = ml.execute(script).get(*outputs)\n",
    "Wc1, bc1, Wc2, bc2, Wc3, bc3, Wa1, ba1, Wa2, ba2"
   ]
  },
  {
   "cell_type": "code",
   "execution_count": null,
   "metadata": {
    "collapsed": false
   },
   "outputs": [],
   "source": [
    "Wc1, bc1, Wc2, bc2, Wc3, bc3, Wa1, ba1, Wa2, ba2"
   ]
  },
  {
   "cell_type": "markdown",
   "metadata": {},
   "source": [
    "## Eval"
   ]
  },
  {
   "cell_type": "code",
   "execution_count": null,
   "metadata": {
    "collapsed": false
   },
   "outputs": [],
   "source": [
    "script = \"\"\"\n",
    "source(\"mnist_lenet.dml\") as clf\n",
    "\n",
    "# Eval\n",
    "probs = clf::predict(X, C, Hin, Win, Wc1, bc1, Wc2, bc2, Wc3, bc3, Wa1, ba1, Wa2, ba2)\n",
    "[loss, accuracy] = clf::eval(probs, Y)\n",
    "probs_val = clf::predict(X_val, C, Hin, Win, Wc1, bc1, Wc2, bc2, Wc3, bc3, Wa1, ba1, Wa2, ba2)\n",
    "[loss_val, accuracy_val] = clf::eval(probs_val, Y_val)\n",
    "\"\"\"\n",
    "outputs = (\"loss\", \"accuracy\", \"loss_val\", \"accuracy_val\")\n",
    "script = (dml(script).input(X=X, X_val=X_val, Y=Y, Y_val=Y_val,\n",
    "                            C=c, Hin=size, Win=size,\n",
    "                            Wc1=Wc1, bc1=bc1,\n",
    "                            Wc2=Wc2, bc2=bc2,\n",
    "                            Wc3=Wc3, bc3=bc3,\n",
    "                            Wa1=Wa1, ba1=ba1,\n",
    "                            Wa2=Wa2, ba2=ba2)\n",
    "                     .output(*outputs))\n",
    "loss, acc, loss_val, acc_val = ml.execute(script).get(*outputs)\n",
    "loss, acc, loss_val, acc_val"
   ]
  },
  {
   "cell_type": "code",
   "execution_count": null,
   "metadata": {
    "collapsed": false,
    "scrolled": true
   },
   "outputs": [],
   "source": [
    "loss, acc, loss_val, acc_val"
   ]
  },
  {
   "cell_type": "code",
   "execution_count": null,
   "metadata": {
    "collapsed": true
   },
   "outputs": [],
   "source": []
  }
 ],
 "metadata": {
  "kernelspec": {
   "display_name": "Python 3 + Spark 1.6 + SystemML",
   "language": "python",
   "name": "pyspark3_1.6"
  },
  "language_info": {
   "codemirror_mode": {
    "name": "ipython",
    "version": 3
   },
   "file_extension": ".py",
   "mimetype": "text/x-python",
   "name": "python",
   "nbconvert_exporter": "python",
   "pygments_lexer": "ipython3",
   "version": "3.6.0"
  }
 },
 "nbformat": 4,
 "nbformat_minor": 1
}
