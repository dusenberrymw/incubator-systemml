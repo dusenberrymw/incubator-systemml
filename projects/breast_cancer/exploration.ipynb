{
 "cells": [
  {
   "cell_type": "code",
   "execution_count": null,
   "metadata": {
    "collapsed": true
   },
   "outputs": [],
   "source": [
    "%load_ext autoreload\n",
    "%autoreload 2\n",
    "%matplotlib inline\n",
    "\n",
    "import os\n",
    "from glob import glob\n",
    "\n",
    "import matplotlib as mpl\n",
    "import matplotlib.pyplot as plt\n",
    "import numpy as np\n",
    "import openslide\n",
    "from openslide import open_slide\n",
    "from openslide.deepzoom import DeepZoomGenerator\n",
    "import pandas as pd\n",
    "from scipy.ndimage.morphology import binary_fill_holes, binary_closing, binary_dilation\n",
    "import skimage\n",
    "from skimage.color import rgb2gray\n",
    "from skimage.morphology import closing, binary_closing, disk, remove_small_holes, dilation, remove_small_objects\n",
    "from skimage import color, morphology, filters, exposure, feature\n",
    "\n",
    "plt.rcParams['figure.figsize'] = (10, 6)"
   ]
  },
  {
   "cell_type": "markdown",
   "metadata": {
    "collapsed": true
   },
   "source": [
    "# Visualize"
   ]
  },
  {
   "cell_type": "code",
   "execution_count": null,
   "metadata": {},
   "outputs": [],
   "source": [
    "files = glob(\"data/training_image_data/*.svs\")\n",
    "files"
   ]
  },
  {
   "cell_type": "code",
   "execution_count": null,
   "metadata": {
    "collapsed": true
   },
   "outputs": [],
   "source": [
    "slide_num = 2\n",
    "slide = open_slide(files[slide_num-1])"
   ]
  },
  {
   "cell_type": "code",
   "execution_count": null,
   "metadata": {},
   "outputs": [],
   "source": [
    "slide.dimensions"
   ]
  },
  {
   "cell_type": "code",
   "execution_count": null,
   "metadata": {
    "collapsed": true
   },
   "outputs": [],
   "source": [
    "x, y = slide.dimensions"
   ]
  },
  {
   "cell_type": "code",
   "execution_count": null,
   "metadata": {},
   "outputs": [],
   "source": [
    "x,y"
   ]
  },
  {
   "cell_type": "code",
   "execution_count": null,
   "metadata": {},
   "outputs": [],
   "source": [
    "x*y"
   ]
  },
  {
   "cell_type": "code",
   "execution_count": null,
   "metadata": {},
   "outputs": [],
   "source": [
    "x * y * 3 * 8 / 1024 / 1024 / 1024"
   ]
  },
  {
   "cell_type": "code",
   "execution_count": null,
   "metadata": {},
   "outputs": [],
   "source": [
    "slide.level_count"
   ]
  },
  {
   "cell_type": "code",
   "execution_count": null,
   "metadata": {},
   "outputs": [],
   "source": [
    "slide.level_dimensions"
   ]
  },
  {
   "cell_type": "code",
   "execution_count": null,
   "metadata": {
    "scrolled": true
   },
   "outputs": [],
   "source": [
    "slide.level_downsamples"
   ]
  },
  {
   "cell_type": "code",
   "execution_count": null,
   "metadata": {},
   "outputs": [],
   "source": [
    "mag = int(slide.properties[openslide.PROPERTY_NAME_OBJECTIVE_POWER])\n",
    "mag"
   ]
  },
  {
   "cell_type": "code",
   "execution_count": null,
   "metadata": {},
   "outputs": [],
   "source": [
    "slide.get_best_level_for_downsample(20/mag)"
   ]
  },
  {
   "cell_type": "code",
   "execution_count": null,
   "metadata": {
    "collapsed": true
   },
   "outputs": [],
   "source": [
    "# location = (0, 0)\n",
    "# level = 2\n",
    "# size = slide.level_dimensions[level]\n",
    "# img_whole_slide = slide.read_region(location, level, size)\n",
    "# img_whole_slide.save(\"out/images/cancer.jpg\")\n",
    "# img_whole_slide"
   ]
  },
  {
   "cell_type": "code",
   "execution_count": null,
   "metadata": {
    "collapsed": true
   },
   "outputs": [],
   "source": [
    "# location = (0, 0)\n",
    "# level = 1\n",
    "# size = slide.level_dimensions[level]\n",
    "# img_whole_slide = slide.read_region(location, level, size)\n",
    "# img_whole_slide.save(\"out/images/cancer_med_res.jpg\")\n",
    "# img_whole_slide"
   ]
  },
  {
   "cell_type": "code",
   "execution_count": null,
   "metadata": {
    "collapsed": true
   },
   "outputs": [],
   "source": [
    "# location = (0, 0)\n",
    "# level = 0\n",
    "# size = slide.level_dimensions[level]\n",
    "# img_whole_slide = slide.read_region(location, level, size)\n",
    "# img_whole_slide.save(\"out/images/cancer_high_res.jpg\")\n",
    "# img_whole_slide"
   ]
  },
  {
   "cell_type": "code",
   "execution_count": null,
   "metadata": {},
   "outputs": [],
   "source": [
    "location = (40000, 20000) #(13000, 130000)\n",
    "level = 0\n",
    "size = (1024, 1024)\n",
    "img = slide.read_region(location, level, size)\n",
    "img.save(\"etc/cancer_zoom.jpg\")\n",
    "img"
   ]
  },
  {
   "cell_type": "code",
   "execution_count": null,
   "metadata": {},
   "outputs": [],
   "source": [
    "img.mode"
   ]
  },
  {
   "cell_type": "code",
   "execution_count": null,
   "metadata": {},
   "outputs": [],
   "source": [
    "img.convert(\"RGB\")"
   ]
  },
  {
   "cell_type": "code",
   "execution_count": null,
   "metadata": {
    "collapsed": true
   },
   "outputs": [],
   "source": [
    "x = np.array(img)"
   ]
  },
  {
   "cell_type": "code",
   "execution_count": null,
   "metadata": {
    "scrolled": true
   },
   "outputs": [],
   "source": [
    "x.shape"
   ]
  },
  {
   "cell_type": "code",
   "execution_count": null,
   "metadata": {},
   "outputs": [],
   "source": [
    "plt.subplot(1, 2, 1)\n",
    "plt.imshow(x)\n",
    "plt.title(\"Original\"); plt.xticks([]); plt.yticks([])\n",
    "plt.subplot(1, 2, 2)\n",
    "plt.imshow(x[:, :, :-1])\n",
    "plt.title(\"RGB\"); plt.xticks([]); plt.yticks([])\n",
    "plt.show()"
   ]
  },
  {
   "cell_type": "code",
   "execution_count": null,
   "metadata": {},
   "outputs": [],
   "source": [
    "np.r_[0:3, 3:]"
   ]
  },
  {
   "cell_type": "code",
   "execution_count": null,
   "metadata": {
    "collapsed": true
   },
   "outputs": [],
   "source": [
    "np.r_?"
   ]
  },
  {
   "cell_type": "code",
   "execution_count": null,
   "metadata": {
    "collapsed": true
   },
   "outputs": [],
   "source": [
    "xt = x.transpose(2, 0, 1)"
   ]
  },
  {
   "cell_type": "code",
   "execution_count": null,
   "metadata": {
    "collapsed": true
   },
   "outputs": [],
   "source": [
    "xt.shape"
   ]
  },
  {
   "cell_type": "code",
   "execution_count": null,
   "metadata": {
    "collapsed": true
   },
   "outputs": [],
   "source": []
  },
  {
   "cell_type": "markdown",
   "metadata": {},
   "source": [
    "# Generate Tiles"
   ]
  },
  {
   "cell_type": "code",
   "execution_count": null,
   "metadata": {
    "collapsed": true
   },
   "outputs": [],
   "source": [
    "tile_size = 256  #1024\n",
    "tiles = DeepZoomGenerator(slide, tile_size=tile_size, overlap=0, limit_bounds=False)  # overlap adds pixels to each side"
   ]
  },
  {
   "cell_type": "code",
   "execution_count": null,
   "metadata": {
    "collapsed": true
   },
   "outputs": [],
   "source": [
    "tiles.level_count"
   ]
  },
  {
   "cell_type": "code",
   "execution_count": null,
   "metadata": {
    "collapsed": true
   },
   "outputs": [],
   "source": [
    "tiles.tile_count"
   ]
  },
  {
   "cell_type": "code",
   "execution_count": null,
   "metadata": {
    "collapsed": true
   },
   "outputs": [],
   "source": [
    "tiles.level_tiles"
   ]
  },
  {
   "cell_type": "code",
   "execution_count": null,
   "metadata": {
    "collapsed": true
   },
   "outputs": [],
   "source": [
    "# Note: Use the magnification property to determine which of these levels to use to get 20x size\n",
    "tiles.level_dimensions"
   ]
  },
  {
   "cell_type": "code",
   "execution_count": null,
   "metadata": {
    "collapsed": true
   },
   "outputs": [],
   "source": [
    "tiles.level_dimensions[tiles.level_count-1]"
   ]
  },
  {
   "cell_type": "code",
   "execution_count": null,
   "metadata": {
    "collapsed": true
   },
   "outputs": [],
   "source": [
    "tile = tiles.get_tile(tiles.level_count-1, (25, 30))\n",
    "tile"
   ]
  },
  {
   "cell_type": "code",
   "execution_count": null,
   "metadata": {
    "collapsed": true
   },
   "outputs": [],
   "source": [
    "tile2 = tiles.get_tile(tiles.level_count-1, (25, 41))\n",
    "tile2"
   ]
  },
  {
   "cell_type": "code",
   "execution_count": null,
   "metadata": {
    "collapsed": true
   },
   "outputs": [],
   "source": [
    "tile3 = tiles.get_tile(tiles.level_count-1, (40, 30))  # (45, 37))\n",
    "tile3"
   ]
  },
  {
   "cell_type": "code",
   "execution_count": null,
   "metadata": {
    "collapsed": true
   },
   "outputs": [],
   "source": [
    "np.array(tile3).shape"
   ]
  },
  {
   "cell_type": "code",
   "execution_count": null,
   "metadata": {
    "collapsed": true
   },
   "outputs": [],
   "source": [
    "tile4 = tiles.get_tile(tiles.level_count-1, (0, 0))\n",
    "tile4"
   ]
  },
  {
   "cell_type": "code",
   "execution_count": null,
   "metadata": {
    "collapsed": true
   },
   "outputs": [],
   "source": [
    "tile5 = tiles.get_tile(tiles.level_count-1, (0, 42))\n",
    "tile5"
   ]
  },
  {
   "cell_type": "code",
   "execution_count": null,
   "metadata": {
    "collapsed": true
   },
   "outputs": [],
   "source": [
    "tile6 = tiles.get_tile(tiles.level_count-1, (14, 2))\n",
    "tile6"
   ]
  },
  {
   "cell_type": "code",
   "execution_count": null,
   "metadata": {
    "collapsed": true,
    "scrolled": false
   },
   "outputs": [],
   "source": [
    "np.array(tile).shape"
   ]
  },
  {
   "cell_type": "code",
   "execution_count": null,
   "metadata": {
    "collapsed": true,
    "scrolled": true
   },
   "outputs": [],
   "source": [
    "gray = rgb2gray(np.array(tile))  #[:, :, np.newaxis]\n",
    "gray.shape"
   ]
  },
  {
   "cell_type": "code",
   "execution_count": null,
   "metadata": {
    "collapsed": true
   },
   "outputs": [],
   "source": [
    "gray = gray[:, :, np.newaxis]\n",
    "gray.shape"
   ]
  },
  {
   "cell_type": "code",
   "execution_count": null,
   "metadata": {
    "collapsed": true
   },
   "outputs": [],
   "source": [
    "gray.squeeze().shape"
   ]
  },
  {
   "cell_type": "code",
   "execution_count": null,
   "metadata": {
    "collapsed": true
   },
   "outputs": [],
   "source": [
    "cmap = mpl.colors.ListedColormap(['w', 'k'])  # 0 -> white, 1 -> black\n",
    "plt.imshow(gray.squeeze(), cmap=cmap, vmin=0, vmax=1)"
   ]
  },
  {
   "cell_type": "code",
   "execution_count": null,
   "metadata": {
    "collapsed": true,
    "scrolled": true
   },
   "outputs": [],
   "source": [
    "type(tile)"
   ]
  },
  {
   "cell_type": "code",
   "execution_count": null,
   "metadata": {
    "collapsed": true
   },
   "outputs": [],
   "source": [
    "a = [np.array(tile), np.array(tile)]\n",
    "np.array(a).shape"
   ]
  },
  {
   "cell_type": "code",
   "execution_count": null,
   "metadata": {
    "collapsed": true
   },
   "outputs": [],
   "source": [
    "a = []\n",
    "a.append(np.array(tile))\n",
    "a.append(np.array(tile))\n",
    "np.array(a).shape"
   ]
  },
  {
   "cell_type": "code",
   "execution_count": null,
   "metadata": {
    "collapsed": true
   },
   "outputs": [],
   "source": [
    "plt.imshow(np.array(tile))\n",
    "plt.xticks([]); plt.yticks([])\n",
    "plt.show()"
   ]
  },
  {
   "cell_type": "code",
   "execution_count": null,
   "metadata": {
    "collapsed": true
   },
   "outputs": [],
   "source": [
    "(cols, rows) = tiles.level_tiles[-1]\n",
    "cols, rows"
   ]
  },
  {
   "cell_type": "code",
   "execution_count": null,
   "metadata": {
    "collapsed": true,
    "scrolled": true
   },
   "outputs": [],
   "source": [
    "cols*rows"
   ]
  },
  {
   "cell_type": "raw",
   "metadata": {},
   "source": [
    "# Tile patch generator\n",
    "level = tiles.level_count-1  # 0-based\n",
    "def gen_tiles():\n",
    "  \"\"\"Tile generator\"\"\"\n",
    "  for col in range(cols):\n",
    "    for row in range(rows):\n",
    "      tile = np.array(tiles.get_tile(level, (col, row)))\n",
    "      if tile.shape[0:2] == (tile_size, tile_size):\n",
    "          yield tile\n",
    "\n",
    "samples = np.array([tile for tile in gen_tiles()])"
   ]
  },
  {
   "cell_type": "raw",
   "metadata": {
    "scrolled": true
   },
   "source": [
    "samples.dtype"
   ]
  },
  {
   "cell_type": "raw",
   "metadata": {},
   "source": [
    "samples.shape"
   ]
  },
  {
   "cell_type": "raw",
   "metadata": {},
   "source": [
    "samples.nbytes / 1024 / 1024 / 1024"
   ]
  },
  {
   "cell_type": "raw",
   "metadata": {},
   "source": [
    "slide.level_dimensions"
   ]
  },
  {
   "cell_type": "raw",
   "metadata": {},
   "source": [
    "slide.level_dimensions[0][0] / 1024"
   ]
  },
  {
   "cell_type": "raw",
   "metadata": {},
   "source": [
    "# Pixel dimensions at high-res\n",
    "(cols, rows) = slide.level_dimensions[0]\n",
    "cols, rows"
   ]
  },
  {
   "cell_type": "raw",
   "metadata": {},
   "source": [
    "# Size in GB\n",
    "cols * rows * 3 * 1 / 1024 / 1024 / 1024"
   ]
  },
  {
   "cell_type": "raw",
   "metadata": {},
   "source": [
    "samples.shape"
   ]
  },
  {
   "cell_type": "raw",
   "metadata": {
    "scrolled": true
   },
   "source": [
    "# Reshape to 256x256 pixel patches\n",
    "samples.reshape((samples.shape[0], samples.shape[1]//256, 256, samples.shape[2]//256, 256, 3)).swapaxes(2,3).reshape((-1, 256, 256, 3)).shape"
   ]
  },
  {
   "cell_type": "code",
   "execution_count": null,
   "metadata": {
    "collapsed": true
   },
   "outputs": [],
   "source": [
    "500 * 38528"
   ]
  },
  {
   "cell_type": "code",
   "execution_count": null,
   "metadata": {
    "collapsed": true
   },
   "outputs": [],
   "source": [
    "a = np.array([[1,5,9,13],\n",
    "              [2,6,10,14],\n",
    "              [3,7,11,15],\n",
    "              [4,8,12,16]])\n",
    "a = np.array([a,a])\n",
    "a"
   ]
  },
  {
   "cell_type": "code",
   "execution_count": null,
   "metadata": {
    "collapsed": true
   },
   "outputs": [],
   "source": [
    "a.shape"
   ]
  },
  {
   "cell_type": "code",
   "execution_count": null,
   "metadata": {
    "collapsed": true
   },
   "outputs": [],
   "source": [
    "a.reshape(a.shape[0], a.shape[1]//2, 2, a.shape[2]//2, 2).swapaxes(2, 3).reshape(-1, 2, 2)"
   ]
  },
  {
   "cell_type": "markdown",
   "metadata": {},
   "source": [
    "---"
   ]
  },
  {
   "cell_type": "markdown",
   "metadata": {},
   "source": [
    "# Filter slides with < 90% tissue"
   ]
  },
  {
   "cell_type": "markdown",
   "metadata": {},
   "source": [
    "In Stanford paper, the following procedure distinguished tissue from background:\n",
    "1. convert lowest resolution scan of image to grayscale\n",
    "2. apply automatic contrast enhancement\n",
    "3. take 8-bit depth complement\n",
    "4. perform hysteresis thresholding with an “experimentally-chosen high threshold” of 100 and low threshold of 50."
   ]
  },
  {
   "cell_type": "code",
   "execution_count": null,
   "metadata": {
    "collapsed": true
   },
   "outputs": [],
   "source": [
    "def calc_tissue_percentage(image):\n",
    "  \"\"\"\n",
    "  Calculates the percentage of the image that is filled by tissue.\n",
    "  \n",
    "  Assumes that tissue is white (pixel value = 255), and blank slide is black (0).\n",
    "  \"\"\"\n",
    "  (x, y) = image.shape\n",
    "  percentage = image.sum() / (x * y)# * 255)\n",
    "  return percentage"
   ]
  },
  {
   "cell_type": "code",
   "execution_count": null,
   "metadata": {
    "collapsed": true
   },
   "outputs": [],
   "source": [
    "import ftdetect\n",
    "from ftdetect import cleanedges\n",
    "cleanedges.hystThresh?"
   ]
  },
  {
   "cell_type": "code",
   "execution_count": null,
   "metadata": {
    "collapsed": true
   },
   "outputs": [],
   "source": [
    "def normalize_staining(x, beta=0.15, alpha=1, light_intensity=240):\n",
    "  \"\"\"\n",
    "  Normalize the staining of H&E histology slides.\n",
    "  \n",
    "  This function normalizes the staining of H&E histoloy slides\n",
    "  using the method described in [1].\n",
    "  \"\"\"\n",
    "  # Setup.\n",
    "  x = np.asarray(x)\n",
    "  h, w, c = x.shape\n",
    "  x = x.reshape(-1, c).astype(np.float64)  # shape (H*W, C)\n",
    "  \n",
    "  # Reference stain vectors and stain saturations.  We will normalize all slides\n",
    "  # to these references.  To create these, grab the stain vectors and stain\n",
    "  # saturations from a desirable slide.\n",
    "  ## Values in reference implementation for use with eigendecomposition approach.\n",
    "#   stain_ref = np.array([0.5626, 0.2159, 0.7201, 0.8012, 0.4062, 0.5581]).reshape(3,2)\n",
    "#   max_sat_ref = np.array([1.9705, 1.0308]).reshape(2,1)\n",
    "  ## Values for use with SVD approach.  These were computed by (1) running the\n",
    "  ## the eigendecomposition approach to normalize an image, (2) running the\n",
    "  ## SVD approach on the normalized image, and (3) recording the stain vectors\n",
    "  ## and max saturations for this (ideal) normalized image.\n",
    "  stain_ref = np.array([0.20730702, 0.56170196, 0.80308092, 0.72012455, 0.55864554, 0.4073224]).reshape(3,2)\n",
    "  max_sat_ref = np.array([0.99818645, 1.96029115]).reshape(2,1)\n",
    "  \n",
    "  # Convert RGB to OD.\n",
    "  OD = -np.log((x+1)/light_intensity)  # shape (H*W, C)\n",
    "#   OD = -np.log10(x/255 + 1e-8)\n",
    "  \n",
    "  # Remove data with OD intensity less than beta.\n",
    "  # I.e. remove transparent pixels.\n",
    "  # Note: This needs to be checked per channel, rather than\n",
    "  # taking an average over all channels for a given pixel.\n",
    "  #OD_thresh = OD[np.logical_not(np.any(OD < beta, 1)), :]\n",
    "  OD_thresh = OD[np.all(OD >= beta, 1), :]  # shape (K, C)\n",
    "  \n",
    "  # Calculate eigenvectors.\n",
    "#   eigvals, eigvecs = np.linalg.eig(np.cov(OD_thresh.T))  # np.cov results in inf/nans\n",
    "  U, s, V = np.linalg.svd(OD_thresh, full_matrices=False)\n",
    "  \n",
    "  # Extract two largest eigenvectors.\n",
    "  # Note: We swap the sign of the eigvecs here to be consistent\n",
    "  # with other implementations.  Both +/- eigvecs are valid, with\n",
    "  # the same eigenvalue, so this is okay.\n",
    "#   top_eigvecs = eigvecs[:, np.argsort(eigvals)[-2:]] * -1\n",
    "  top_eigvecs = V[0:2, :].T * -1  # shape (C, 2)\n",
    "  \n",
    "  # Project thresholded optical density values onto plane spanned by\n",
    "  # 2 largest eigenvectors.\n",
    "  proj = np.dot(OD_thresh, top_eigvecs)  # shape (K, 2)\n",
    "  \n",
    "  # Calculate angle of each point wrt the first plane direction.\n",
    "  # Note: the parameters are `np.arctan2(y, x)`\n",
    "  angles = np.arctan2(proj[:, 1], proj[:, 0])  # shape (K,)\n",
    "  \n",
    "  # Find robust extremes (a and 100-a percentiles) of the angle.\n",
    "  min_angle = np.percentile(angles, alpha)\n",
    "  max_angle = np.percentile(angles, 100-alpha)\n",
    "  \n",
    "  # Convert min/max vectors (extremes) back to OD space.\n",
    "  extreme_angles = np.array(\n",
    "    [np.cos(min_angle), np.cos(max_angle), np.sin(min_angle), np.sin(max_angle)]\n",
    "  ).reshape(2,2)\n",
    "  stains = np.dot(top_eigvecs, extreme_angles)  # shape (C, 2)\n",
    "#   min_vec = np.dot(top_eigvecs, np.array([np.cos(min_angle), np.sin(min_angle)]).reshape(2,1))\n",
    "#   max_vec = np.dot(top_eigvecs, np.array([np.cos(max_angle), np.sin(max_angle)]).reshape(2,1))\n",
    "  \n",
    "#   # Merge vectors with hematoxylin first, and eosin second with a heuristic.\n",
    "#   if min_vec[0] > max_vec[0]:\n",
    "#     stains = np.hstack((min_vec, max_vec))\n",
    "#   else:\n",
    "#     stains = np.hstack((max_vec, min_vec))\n",
    "\n",
    "  # Calculate saturations of each stain.\n",
    "  # Note: Here, we solve\n",
    "  #    OD = VS\n",
    "  #     S = V^{-1}OD\n",
    "  # where `OD` is the matrix of optical density values of our image,\n",
    "  # `V` is the matrix of stain vectors, and `S` is the matrix of stain\n",
    "  # saturations.  Since this is an overdetermined system, we use the\n",
    "  # least squares solver, rather than a direct solve.\n",
    "  sats, _, _, _ = np.linalg.lstsq(stains, OD.T)\n",
    "  \n",
    "  # Normalize stain saturations.\n",
    "  max_sat = np.percentile(sats, 99, axis=1, keepdims=True)\n",
    "  sats = sats / max_sat * max_sat_ref\n",
    "  \n",
    "  # Recreate image.\n",
    "  # Note: If the image is immediately converted to uint8 with `.astype(np.uint8)`, it will\n",
    "  # not return the correct values due to the initital values being outside of [0,255].\n",
    "  # To fix this, we round to the nearest integer, and then clip to [0,255], which is the\n",
    "  # same behavior as Matlab.\n",
    "  x_norm = np.exp(np.dot(-stain_ref, sats)) * light_intensity\n",
    "#   x_norm = 10**(np.dot(-stain_ref, sats)) * 255\n",
    "  x_norm = np.clip(np.round(x_norm), 0, 255).astype(np.uint8)\n",
    "  x_norm = x_norm.T.reshape(h,w,c)\n",
    "  \n",
    "  # Debug.\n",
    "#   print(\"OD shape: \", OD.shape)\n",
    "#   print(\"OD_thresh shape: \", OD_thresh.shape)\n",
    "#   print(\"eigvals: \", eigvals)\n",
    "#   print(\"sorted eigvals: \", np.argsort(eigvals))\n",
    "#   print(\"top_eigvecs shape: \", top_eigvecs.shape)\n",
    "#   print(\"top_eigvecs: \", top_eigvecs)\n",
    "#   print(\"top 2 eigval indices: \", np.argsort(eigvals)[-2:])\n",
    "#   print(\"proj shape: \", proj.shape)\n",
    "#   print(\"proj mean: \", np.mean(proj, axis=0))\n",
    "#   print(\"angles shape: \", angles.shape)\n",
    "#   print(\"angles mean: \", np.mean(angles))\n",
    "#   print(\"min/max angles: \", min_angle, max_angle)\n",
    "#   print(\"min_vec shape: \", min_vec.shape)\n",
    "#   print(\"min_vec mean: \", np.mean(min_vec))\n",
    "#   print(\"max_vec mean: \", np.mean(max_vec))\n",
    "#   print(\"stains shape: \", stains.shape)\n",
    "  print(\"stains: \", stains)\n",
    "#   print(\"sats shape: \", sats.shape)\n",
    "#   print(\"sats mean: \", np.mean(sats, axis=1))\n",
    "#   print(\"max_sat shape: \", max_sat.shape)\n",
    "  print(\"max_sat: \", max_sat)\n",
    "#   print(\"x_norm shape: \", x_norm.shape)\n",
    "#   print(\"x_norm mean: \", np.mean(x_norm, axis=(0,1)))\n",
    "#   print(\"x_norm min: \", np.min(x_norm, axis=(0,1)))\n",
    "#   print(\"x_norm max: \", np.max(x_norm, axis=(0,1)))\n",
    "#   print(x_norm.dtype)\n",
    "#   print()\n",
    "# #   x = x.reshape(h,w,c).astype(np.uint8)\n",
    "  \n",
    "  return x_norm"
   ]
  },
  {
   "cell_type": "code",
   "execution_count": null,
   "metadata": {
    "collapsed": true
   },
   "outputs": [],
   "source": [
    "rgb2gray(np.asarray(tile)).dtype"
   ]
  },
  {
   "cell_type": "code",
   "execution_count": null,
   "metadata": {
    "collapsed": true
   },
   "outputs": [],
   "source": [
    "def optical_density(tile):\n",
    "  \"\"\"\n",
    "  Convert a tile to optical density values.\n",
    "  \n",
    "  Args:\n",
    "    tile: A 3D NumPy array of shape (tile_size, tile_size, channels).\n",
    "  \n",
    "  Returns:\n",
    "    A 3D NumPy array of shape (tile_size, tile_size, channels) representing\n",
    "    optical density values.\n",
    "  \"\"\"\n",
    "  tile = tile.astype(np.float64)\n",
    "  #od = -np.log10(tile/light_intensity + 1e-8)\n",
    "  od = -np.log((tile+1)/240)\n",
    "  return od\n",
    "\n",
    "def process_tile(tile):\n",
    "  # Convert to numpy array\n",
    "  image = np.array(tile)\n",
    "\n",
    "#   # 1. convert to grayscale\n",
    "#   im = np.round(color.rgb2gray(image) * 255).astype(np.uint8)  # 0 -> black, 255 -> white\n",
    "\n",
    "#   # 2. contrast enhancement\n",
    "#   im = filters.rank.enhance_contrast(im, disk(3))\n",
    "\n",
    "#   # 3. 8-bit depth complement\n",
    "#   im = 255 - im  # 0 -> white, 255 -> black\n",
    "\n",
    "#   # 4. Hysteresis thresholding (not finished)\n",
    "#   im_thresh = im / 255\n",
    "#   im_thresh[im < 50] = 0\n",
    "#   im_thresh[im > 100] = 1\n",
    "#   im_transf = im_thresh\n",
    "#   im = im / 255\n",
    "\n",
    "#   # Binary threshold\n",
    "# #   im_thresh = (im * 255 > 30)  # 0 -> white, 1 -> black\n",
    "#   od = optical_density(im)\n",
    "#   im_thresh = od > 0.15  #0.2\n",
    "\n",
    "#   # Morphology to remove noise\n",
    "#   im_transf = im_thresh\n",
    "#   im_transf = morphology.binary_closing(im_thresh, disk(10))\n",
    "# #   im_transf = morphology.remove_small_holes(im_transf, 100)\n",
    "#   im_transf = dilation(im_transf, disk(10))\n",
    "#   im_transf = binary_fill_holes(im_transf)\n",
    "# #   im_transf = morphology.remove_small_objects(im_transf)\n",
    "\n",
    "\n",
    "#   im = 1 - rgb2gray(image)\n",
    "#   im_thresh = feature.canny(im)\n",
    "#   im_transf = im_thresh\n",
    "#   im_transf = morphology.binary_closing(im_thresh, disk(10))\n",
    "#   im_transf = morphology.binary_dilation(im_transf, disk(10))\n",
    "#   im_transf = binary_fill_holes(im_transf)\n",
    "  \n",
    "  im = optical_density(image)\n",
    "  im_thresh = np.min(im, axis=2) >= 0.15\n",
    "  im_transf = morphology.binary_closing(im_thresh, disk(2))\n",
    "  im_transf = morphology.binary_dilation(im_transf, disk(2))\n",
    "  im_transf = binary_fill_holes(im_transf)\n",
    "\n",
    "#   im = image\n",
    "#   im = normalize_staining(image)\n",
    "#   im = 1 - rgb2gray(im)\n",
    "# #   im_thresh = im\n",
    "#   im_thresh = cleanedges.hystThresh(im, 50/255, 100/255)\n",
    "#   im_transf = im_thresh\n",
    "#   im_transf = morphology.binary_closing(im_thresh, disk(1))\n",
    "# #   im_transf = morphology.binary_dilation(im_transf, disk(1))\n",
    "# #   im_transf = binary_fill_holes(im_transf)\n",
    "\n",
    "  # plot\n",
    "  cmap = mpl.colors.ListedColormap(['w', 'k'])  # 0 -> white, 1 -> black\n",
    "  fig = plt.figure(figsize=(10, 10))\n",
    "  plt.subplot(2,2,1)\n",
    "  plt.imshow(image), plt.xticks([]), plt.yticks([])\n",
    "  plt.subplot(2,2,2)\n",
    "  plt.imshow(im, cmap=cmap, vmin=0, vmax=1), plt.xticks([]), plt.yticks([])\n",
    "  plt.subplot(2,2,3)\n",
    "  plt.imshow(im_thresh, cmap=cmap, vmin=0, vmax=1), plt.xticks([]), plt.yticks([])\n",
    "  plt.subplot(2,2,4)\n",
    "  plt.imshow(im_transf, cmap=cmap, vmin=0, vmax=1), plt.xticks([]), plt.yticks([])\n",
    "  plt.show()\n",
    "\n",
    "  print(im_thresh.mean())\n",
    "  print(im_transf.mean())\n",
    "\n",
    "  return im_transf, im_thresh, im"
   ]
  },
  {
   "cell_type": "code",
   "execution_count": null,
   "metadata": {
    "collapsed": true
   },
   "outputs": [],
   "source": [
    "def keep_tile(tile, tile_size, tissue_threshold=0.9):\n",
    "  if tile.shape[0:2] == (tile_size, tile_size):\n",
    "    tile_orig = tile\n",
    "    \n",
    "    # Check 1\n",
    "    # Convert 3D RGB image to 2D grayscale image, from\n",
    "    # 0 (dense tissue) to 1 (plain background).\n",
    "    tile = rgb2gray(tile)\n",
    "    # 8-bit depth complement, from 1 (dense tissue)\n",
    "    # to 0 (plain background).\n",
    "    tile = 1 - tile\n",
    "    # Canny edge detection with hysteresis thresholding.\n",
    "    # This returns a binary map of edges, with 1 equal to\n",
    "    # an edge. The idea is that tissue would be full of\n",
    "    # edges, while background would not.\n",
    "    tile = canny(tile)\n",
    "    # Binary closing, which is a dilation followed by\n",
    "    # an erosion. This removes small dark spots, which\n",
    "    # helps remove noise in the background.\n",
    "    tile = binary_closing(tile, disk(10))\n",
    "    # Binary dilation, which enlarges bright areas,\n",
    "    # and shrinks dark areas. This helps fill in holes\n",
    "    # within regions of tissue.\n",
    "    tile = binary_dilation(tile, disk(10))\n",
    "    # Fill remaining holes within regions of tissue.\n",
    "    tile = binary_fill_holes(tile)\n",
    "    # Calculate percentage of tissue coverage.\n",
    "    percentage = tile.mean()\n",
    "    print(percentage)\n",
    "    check1 = percentage >= tissue_threshold\n",
    "    \n",
    "    # Check 2\n",
    "    beta = 0.15\n",
    "    tile = optical_density(tile_orig)\n",
    "    tile = np.min(tile, axis=2) >= beta\n",
    "    tile = binary_closing(tile, disk(2))\n",
    "    tile = binary_dilation(tile, disk(2))\n",
    "    tile = binary_fill_holes(tile)\n",
    "    percentage = tile.mean()\n",
    "    print(percentage)\n",
    "    check2 = percentage >= tissue_threshold\n",
    "    \n",
    "    return check1 and check2\n",
    "  else:\n",
    "    return False"
   ]
  },
  {
   "cell_type": "code",
   "execution_count": null,
   "metadata": {
    "collapsed": true,
    "scrolled": false
   },
   "outputs": [],
   "source": [
    "im1 = process_tile(tile)"
   ]
  },
  {
   "cell_type": "code",
   "execution_count": null,
   "metadata": {
    "collapsed": true
   },
   "outputs": [],
   "source": [
    "keep_tile(np.array(tile), tile_size)"
   ]
  },
  {
   "cell_type": "code",
   "execution_count": null,
   "metadata": {
    "collapsed": true
   },
   "outputs": [],
   "source": [
    "im2 = process_tile(tile2)"
   ]
  },
  {
   "cell_type": "code",
   "execution_count": null,
   "metadata": {
    "collapsed": true
   },
   "outputs": [],
   "source": [
    "keep_tile(np.array(tile2), tile_size)"
   ]
  },
  {
   "cell_type": "code",
   "execution_count": null,
   "metadata": {
    "collapsed": true,
    "scrolled": false
   },
   "outputs": [],
   "source": [
    "im3 = process_tile(tile3)"
   ]
  },
  {
   "cell_type": "code",
   "execution_count": null,
   "metadata": {
    "collapsed": true
   },
   "outputs": [],
   "source": [
    "keep_tile(np.array(tile3), tile_size)"
   ]
  },
  {
   "cell_type": "code",
   "execution_count": null,
   "metadata": {
    "collapsed": true,
    "scrolled": false
   },
   "outputs": [],
   "source": [
    "im4, im4_thresh, im4_contrast = process_tile(tile4)"
   ]
  },
  {
   "cell_type": "code",
   "execution_count": null,
   "metadata": {
    "collapsed": true
   },
   "outputs": [],
   "source": [
    "keep_tile(np.array(tile4), tile_size)"
   ]
  },
  {
   "cell_type": "code",
   "execution_count": null,
   "metadata": {
    "collapsed": true,
    "scrolled": false
   },
   "outputs": [],
   "source": [
    "im5 = process_tile(tile5)"
   ]
  },
  {
   "cell_type": "code",
   "execution_count": null,
   "metadata": {
    "collapsed": true
   },
   "outputs": [],
   "source": [
    "keep_tile(np.array(tile5), tile_size)"
   ]
  },
  {
   "cell_type": "code",
   "execution_count": null,
   "metadata": {
    "collapsed": true,
    "scrolled": false
   },
   "outputs": [],
   "source": [
    "im6 = process_tile(tile6)"
   ]
  },
  {
   "cell_type": "code",
   "execution_count": null,
   "metadata": {
    "collapsed": true
   },
   "outputs": [],
   "source": [
    "keep_tile(np.array(tile6), tile_size)"
   ]
  },
  {
   "cell_type": "code",
   "execution_count": null,
   "metadata": {
    "collapsed": true
   },
   "outputs": [],
   "source": [
    "# Hysteresis thresholding experiments\n",
    "\n",
    "from skimage import measure\n",
    "import scipy.ndimage as ndi\n",
    "from scipy.ndimage import (gaussian_filter,\n",
    "                           generate_binary_structure, binary_erosion, label)\n",
    "image = np.array(tile3)\n",
    "\n",
    "# 1. convert to grayscale\n",
    "im = np.round(color.rgb2gray(image) * 255).astype(np.uint8)  # 0 -> black, 255 -> white\n",
    "\n",
    "# 2. contrast enhancement\n",
    "im = filters.rank.enhance_contrast(im, disk(3))\n",
    "\n",
    "# 3. 8-bit depth complement\n",
    "im = 255 - im  # 0 -> white, 255 -> black\n",
    "\n",
    "# 4. Hysteresis thresholding\n",
    "low_mask = im > 50\n",
    "high_mask = im > 100\n",
    "\n",
    "# low_labels = measure.label(low_mask, background=0)\n",
    "# high_labels = measure.label(high_mask, background=0)\n",
    "# labels = low_labels * high_labels\n",
    "\n",
    "# https://github.com/scikit-image/scikit-image/blob/master/skimage/feature/_canny.py#L53\n",
    "output_mask = low_mask\n",
    "strel = np.ones((3, 3), bool)\n",
    "labels, count = label(low_mask, strel)\n",
    "print(labels, count)\n",
    "if count > 0:\n",
    "  sums = (np.array(ndi.sum(high_mask, labels,\n",
    "                           np.arange(count, dtype=np.int32) + 1),\n",
    "                   copy=False, ndmin=1))\n",
    "  good_label = np.zeros((count + 1,), bool)\n",
    "  good_label[1:] = sums > 0\n",
    "  output_mask = good_label[labels]\n",
    "\n",
    "cmap = mpl.colors.ListedColormap(['w', 'k'])  # 0 -> white, 1 -> black\n",
    "fig = plt.figure(figsize=(20, 20))\n",
    "plt.subplot(3,3,1)\n",
    "plt.imshow(image), plt.xticks([]), plt.yticks([])\n",
    "plt.subplot(3,3,2)\n",
    "plt.imshow(im, cmap='gray'), plt.xticks([]), plt.yticks([])\n",
    "plt.subplot(3,3,4)\n",
    "plt.imshow(low_mask, cmap=cmap, vmin=0, vmax=1), plt.xticks([]), plt.yticks([])\n",
    "plt.subplot(3,3,5)\n",
    "plt.imshow(high_mask, cmap=cmap, vmin=0, vmax=1), plt.xticks([]), plt.yticks([])\n",
    "plt.subplot(3,3,7)\n",
    "plt.imshow(output_mask, cmap=cmap), plt.xticks([]), plt.yticks([])\n",
    "plt.subplot(3,3,8)\n",
    "plt.imshow(output_mask-low_mask, cmap=cmap), plt.xticks([]), plt.yticks([])\n",
    "# plt.subplot(3,3,9)\n",
    "# plt.imshow(labels, cmap='spectral'), plt.xticks([]), plt.yticks([])\n",
    "plt.show()\n",
    "print(output_mask.mean())"
   ]
  },
  {
   "cell_type": "code",
   "execution_count": null,
   "metadata": {
    "collapsed": true
   },
   "outputs": [],
   "source": [
    "measure.label?"
   ]
  },
  {
   "cell_type": "code",
   "execution_count": null,
   "metadata": {
    "collapsed": true
   },
   "outputs": [],
   "source": [
    "print(np.array(tile4).mean(), im4_contrast.mean())"
   ]
  },
  {
   "cell_type": "code",
   "execution_count": null,
   "metadata": {
    "collapsed": true
   },
   "outputs": [],
   "source": [
    "im4.shape"
   ]
  },
  {
   "cell_type": "code",
   "execution_count": null,
   "metadata": {
    "collapsed": true
   },
   "outputs": [],
   "source": [
    "np.array(tile).max()"
   ]
  },
  {
   "cell_type": "code",
   "execution_count": null,
   "metadata": {
    "collapsed": true
   },
   "outputs": [],
   "source": [
    "rgb2gray(np.array(tile)).max()"
   ]
  },
  {
   "cell_type": "code",
   "execution_count": null,
   "metadata": {
    "collapsed": true
   },
   "outputs": [],
   "source": [
    "i = np.array(tile)"
   ]
  },
  {
   "cell_type": "code",
   "execution_count": null,
   "metadata": {
    "collapsed": true
   },
   "outputs": [],
   "source": [
    "i.dtype"
   ]
  },
  {
   "cell_type": "code",
   "execution_count": null,
   "metadata": {
    "collapsed": true
   },
   "outputs": [],
   "source": [
    "i.max()"
   ]
  },
  {
   "cell_type": "code",
   "execution_count": null,
   "metadata": {
    "collapsed": true
   },
   "outputs": [],
   "source": [
    "ig = rgb2gray(i)"
   ]
  },
  {
   "cell_type": "code",
   "execution_count": null,
   "metadata": {
    "collapsed": true
   },
   "outputs": [],
   "source": [
    "ig.dtype"
   ]
  },
  {
   "cell_type": "code",
   "execution_count": null,
   "metadata": {
    "collapsed": true
   },
   "outputs": [],
   "source": [
    "ig.max()"
   ]
  },
  {
   "cell_type": "code",
   "execution_count": null,
   "metadata": {
    "collapsed": true
   },
   "outputs": [],
   "source": [
    "skimage.color.gray2rgb(ig).shape"
   ]
  },
  {
   "cell_type": "code",
   "execution_count": null,
   "metadata": {
    "collapsed": true
   },
   "outputs": [],
   "source": [
    "igi = np.round(ig * 255).astype(\"uint8\")"
   ]
  },
  {
   "cell_type": "code",
   "execution_count": null,
   "metadata": {
    "collapsed": true
   },
   "outputs": [],
   "source": [
    "igi.dtype"
   ]
  },
  {
   "cell_type": "code",
   "execution_count": null,
   "metadata": {
    "collapsed": true
   },
   "outputs": [],
   "source": [
    "igi.max()"
   ]
  },
  {
   "cell_type": "code",
   "execution_count": null,
   "metadata": {
    "collapsed": true
   },
   "outputs": [],
   "source": [
    "np.allclose(ig, igi/255)"
   ]
  },
  {
   "cell_type": "code",
   "execution_count": null,
   "metadata": {
    "collapsed": true
   },
   "outputs": [],
   "source": [
    "ig"
   ]
  },
  {
   "cell_type": "code",
   "execution_count": null,
   "metadata": {
    "collapsed": true
   },
   "outputs": [],
   "source": [
    "igi/255"
   ]
  },
  {
   "cell_type": "code",
   "execution_count": null,
   "metadata": {
    "collapsed": true
   },
   "outputs": [],
   "source": [
    "plt.imshow(ig, cmap=\"gray\")"
   ]
  },
  {
   "cell_type": "code",
   "execution_count": null,
   "metadata": {
    "collapsed": true
   },
   "outputs": [],
   "source": [
    "plt.imshow(igi/255, cmap=\"gray\")"
   ]
  },
  {
   "cell_type": "code",
   "execution_count": null,
   "metadata": {
    "collapsed": true
   },
   "outputs": [],
   "source": [
    "tile"
   ]
  },
  {
   "cell_type": "code",
   "execution_count": null,
   "metadata": {
    "collapsed": true
   },
   "outputs": [],
   "source": [
    "new_size = 64\n",
    "tile = np.array(tile)\n",
    "x, y, ch = tile.shape\n",
    "samples = (tile.reshape((x // new_size, new_size, y // new_size, new_size, ch))\n",
    "               .swapaxes(1,2)\n",
    "               .reshape((-1, new_size, new_size, ch))\n",
    "               .transpose(0,3,1,2))\n",
    "samples = samples.reshape(samples.shape[0], -1)"
   ]
  },
  {
   "cell_type": "code",
   "execution_count": null,
   "metadata": {
    "collapsed": true
   },
   "outputs": [],
   "source": [
    "def visualize_sample(sample, size=256):\n",
    "  \"\"\"\n",
    "  Plot a tissue sample.\n",
    "  \n",
    "  Args:\n",
    "    sample: A square sample flattened to a vector of size\n",
    "      (channels*size_x*size_y).\n",
    "    size: The width and height of the square samples.\n",
    "  \n",
    "  Returns:\n",
    "    None\n",
    "  \"\"\"\n",
    "  # Change type, reshape, transpose to (size_x, size_y, channels).\n",
    "  length = sample.shape[0]\n",
    "  channels = int(length / (size * size))\n",
    "  if channels > 1:\n",
    "    sample = sample.astype('uint8').reshape((channels, size, size)).transpose(1,2,0)\n",
    "    plt.imshow(sample)\n",
    "  else:\n",
    "    vmax = 255 if sample.max() > 1 else 1\n",
    "    sample = sample.reshape((size, size))\n",
    "    plt.imshow(sample, cmap=\"gray\", vmin=0, vmax=vmax)\n",
    "  plt.show()"
   ]
  },
  {
   "cell_type": "code",
   "execution_count": null,
   "metadata": {
    "collapsed": true
   },
   "outputs": [],
   "source": [
    "len(samples)"
   ]
  },
  {
   "cell_type": "code",
   "execution_count": null,
   "metadata": {
    "collapsed": true
   },
   "outputs": [],
   "source": [
    "visualize_sample(samples[24], new_size)"
   ]
  },
  {
   "cell_type": "markdown",
   "metadata": {},
   "source": [
    "---"
   ]
  },
  {
   "cell_type": "markdown",
   "metadata": {},
   "source": [
    "# Other Stuff"
   ]
  },
  {
   "cell_type": "code",
   "execution_count": null,
   "metadata": {
    "collapsed": true
   },
   "outputs": [],
   "source": [
    "import skimage"
   ]
  },
  {
   "cell_type": "code",
   "execution_count": null,
   "metadata": {
    "collapsed": true
   },
   "outputs": [],
   "source": [
    "image = np.array(tile6)\n",
    "image_gray = rgb2gray(image)\n",
    "edges = feature.canny(image_gray)\n",
    "edges2 = feature.canny(image_gray, sigma=3)\n",
    "edges3 = feature.canny(image_gray, low_threshold=0.15)\n",
    "close = morphology.binary_closing(edges, disk(10))\n",
    "\n",
    "cmap = mpl.colors.ListedColormap(['w', 'k'])  # 0 -> white, 1 -> black\n",
    "plt.subplot(2,3,1)\n",
    "plt.imshow(image)\n",
    "plt.subplot(2,3,2)\n",
    "plt.imshow(image_gray, interpolation='nearest', cmap=cmap, vmin=0, vmax=1)\n",
    "plt.subplot(2,3,3)\n",
    "plt.imshow(edges, interpolation='nearest', cmap=cmap, vmin=0, vmax=1)\n",
    "plt.subplot(2,3,4)\n",
    "plt.imshow(edges2, interpolation='nearest', cmap=cmap, vmin=0, vmax=1)\n",
    "plt.subplot(2,3,5)\n",
    "plt.imshow(edges3, interpolation='nearest', cmap=cmap, vmin=0, vmax=1)\n",
    "plt.subplot(2,3,6)\n",
    "plt.imshow(close, interpolation='nearest', cmap=cmap, vmin=0, vmax=1)\n",
    "\n",
    "plt.show()\n",
    "\n",
    "print(calc_tissue_percentage(edges), calc_tissue_percentage(edges2), calc_tissue_percentage(close))"
   ]
  },
  {
   "cell_type": "code",
   "execution_count": null,
   "metadata": {
    "collapsed": true
   },
   "outputs": [],
   "source": [
    "image = np.array(tile4)\n",
    "\n",
    "# im = skimage.img_as_ubyte(color.rgb2gray(image)) #* 255  # 0 -> black, 255 -> white\n",
    "# im = color.rgb2hed(image)\n",
    "im = color.rgb2gray(image)\n",
    "# im = filters.rank.enhance_contrast(im, disk(3))\n",
    "# im = 255 - im\n",
    "# im = im > 50\n",
    "# print(calc_tissue_percentage(im))\n",
    "im"
   ]
  },
  {
   "cell_type": "code",
   "execution_count": null,
   "metadata": {
    "collapsed": true
   },
   "outputs": [],
   "source": [
    "image = np.array(tile4)\n",
    "image = skimage.img_as_float(image)\n",
    "black_mask = color.rgb2gray(image) < 0.1\n",
    "distance_red = color.rgb2gray(1 - np.abs(image - (1,0,0)))\n",
    "distance_blue = color.rgb2gray(1 - np.abs(image - (0,0,1)))\n",
    "\n",
    "distance_red[black_mask] = 0\n",
    "distance_blue[black_mask] = 0\n",
    "\n",
    "plt.subplot(1,3,1)\n",
    "plt.imshow(image)\n",
    "plt.subplot(1,3,2)\n",
    "plt.imshow(distance_red, interpolation='nearest', cmap='gray')\n",
    "plt.subplot(1,3,3)\n",
    "plt.imshow(distance_blue, interpolation='nearest', cmap='gray')\n",
    "plt.show()"
   ]
  },
  {
   "cell_type": "code",
   "execution_count": null,
   "metadata": {
    "collapsed": true
   },
   "outputs": [],
   "source": [
    "image = np.array(tile4)\n",
    "# image = skimage.img_as_float(image)\n",
    "# image = color.rgb2gray(image)\n",
    "# image = filters.rank.enhance_contrast(skimage.img_as_ubyte(image), disk(5))\n",
    "lowpass = filters.gaussian(image, 100)\n",
    "highpass = image - lowpass\n",
    "highpass -= highpass.min()\n",
    "\n",
    "plt.subplot(1,3,1)\n",
    "plt.imshow(image) #, cmap='gray')\n",
    "plt.subplot(1,3,2)\n",
    "plt.imshow(lowpass) #, cmap='gray')\n",
    "plt.subplot(1,3,3)\n",
    "plt.imshow(highpass) #, cmap='gray')\n",
    "\n",
    "plt.show()"
   ]
  },
  {
   "cell_type": "code",
   "execution_count": null,
   "metadata": {
    "collapsed": true
   },
   "outputs": [],
   "source": [
    "def optical_density(image):\n",
    "  od = -np.log10(image/255)  # optical density of each channel\n",
    "  od = np.average(od, axis=2)  # optical density averaged over channels\n",
    "  return od\n",
    "\n",
    "image = np.array(tile4)\n",
    "od = optical_density(image)\n",
    "thresh = od > 0.2\n",
    "\n",
    "plt.subplot(1,3,1)\n",
    "plt.imshow(image) #, cmap='gray')\n",
    "plt.subplot(1,3,2)\n",
    "plt.imshow(od, cmap='gray')\n",
    "plt.subplot(1,3,3)\n",
    "plt.imshow(thresh, cmap='gray')\n",
    "\n",
    "plt.show()"
   ]
  },
  {
   "cell_type": "code",
   "execution_count": null,
   "metadata": {
    "collapsed": true
   },
   "outputs": [],
   "source": [
    "thresh.shape"
   ]
  },
  {
   "cell_type": "code",
   "execution_count": null,
   "metadata": {
    "collapsed": true
   },
   "outputs": [],
   "source": [
    "from skimage.filters import sobel\n",
    "from skimage.morphology import watershed\n",
    "\n",
    "test_im = rgb2gray(np.array(tile2)) * 255\n",
    "elevation_map = sobel(test_im)\n",
    "markers = np.zeros_like(test_im)\n",
    "markers[test_im < 50] = 1\n",
    "markers[test_im > 100] = 2\n",
    "segmentation = watershed(elevation_map, markers)  - 1\n",
    "# segmentation = binary_fill_holes(segmentation - 1)\n",
    "plt.subplot(1,3,1)\n",
    "plt.imshow(markers)\n",
    "plt.subplot(1,3,2)\n",
    "plt.imshow(elevation_map)\n",
    "plt.subplot(1,3,3)\n",
    "plt.imshow(segmentation)\n",
    "plt.show()"
   ]
  },
  {
   "cell_type": "code",
   "execution_count": null,
   "metadata": {
    "collapsed": true
   },
   "outputs": [],
   "source": [
    "from skimage import data\n",
    "from skimage.color import separate_stains, hdx_from_rgb, hed_from_rgb\n",
    "ihc = data.immunohistochemistry()\n",
    "ihc_hdx = separate_stains(ihc, hdx_from_rgb)"
   ]
  },
  {
   "cell_type": "code",
   "execution_count": null,
   "metadata": {
    "collapsed": true
   },
   "outputs": [],
   "source": [
    "plt.subplot(1,2,1)\n",
    "plt.imshow(ihc)\n",
    "plt.subplot(1,2,2)\n",
    "plt.imshow(ihc_hdx)\n",
    "plt.show()"
   ]
  },
  {
   "cell_type": "code",
   "execution_count": null,
   "metadata": {
    "collapsed": true
   },
   "outputs": [],
   "source": [
    "image = np.array(tile4)\n",
    "image = color.rgb2gray(image)\n",
    "image = image - image.mean()\n",
    "# image = (image < filters.threshold_otsu(image))\n",
    "# image = (image < filters.threshold_adaptive(image, 21))\n",
    "image = (image < filters.threshold_li(image))\n",
    "plt.imshow(1-image, cmap=\"gray\")"
   ]
  },
  {
   "cell_type": "code",
   "execution_count": null,
   "metadata": {
    "collapsed": true,
    "scrolled": false
   },
   "outputs": [],
   "source": [
    "tile_orig = tile\n",
    "tile_hed = separate_stains(tile_orig, hed_from_rgb)\n",
    "\n",
    "fig, axes = plt.subplots(2, 2, figsize=(12, 9), sharex=True, sharey=True, subplot_kw={'adjustable':'box-forced'})\n",
    "ax0, ax1, ax2, ax3 = axes.ravel()\n",
    "\n",
    "ax0.imshow(tile_orig)\n",
    "ax0.set_title(\"Original image\")\n",
    "\n",
    "ax1.imshow(tile_hed[:, :, 0], cmap=plt.cm.gray)\n",
    "ax1.set_title(\"Hematoxylin\")\n",
    "\n",
    "ax2.imshow(tile_hed[:, :, 1], cmap=plt.cm.gray)\n",
    "ax2.set_title(\"Eosin\")\n",
    "\n",
    "ax3.imshow(tile_hed[:, :, 2], cmap=plt.cm.gray)\n",
    "ax3.set_title(\"DAB\")\n",
    "\n",
    "for ax in axes.ravel():\n",
    "    ax.axis('off')\n",
    "\n",
    "fig.subplots_adjust(hspace=0.3)\n",
    "\n",
    "plt.show()"
   ]
  },
  {
   "cell_type": "code",
   "execution_count": null,
   "metadata": {
    "collapsed": true
   },
   "outputs": [],
   "source": [
    "from skimage.exposure import rescale_intensity\n",
    "\n",
    "# Rescale hematoxylin and DAB signals and give them a fluorescence look\n",
    "h = rescale_intensity(tile_hed[:, :, 0], out_range=(0, 1))\n",
    "d = rescale_intensity(tile_hed[:, :, 2], out_range=(0, 1))\n",
    "zdh = np.dstack((np.zeros_like(h), d, h))\n",
    "\n",
    "#fig, ax = plt.subplots()\n",
    "fig = plt.figure()\n",
    "ax = plt.subplot(1, 1, 1, sharex=ax0, sharey=ax0, adjustable='box-forced')\n",
    "ax.imshow(zdh)\n",
    "ax.set_title(\"Stain separated image (rescaled)\")\n",
    "ax.axis('off')\n",
    "plt.show()"
   ]
  },
  {
   "cell_type": "code",
   "execution_count": null,
   "metadata": {
    "collapsed": true
   },
   "outputs": [],
   "source": [
    "from skimage import io, filters, color, exposure, morphology, feature, draw, measure, transform"
   ]
  },
  {
   "cell_type": "code",
   "execution_count": null,
   "metadata": {
    "collapsed": true
   },
   "outputs": [],
   "source": [
    "A = np.array(tile2)\n",
    "io.imshow(A)\n",
    "plt.show()"
   ]
  },
  {
   "cell_type": "code",
   "execution_count": null,
   "metadata": {
    "collapsed": true
   },
   "outputs": [],
   "source": [
    "image = exposure.equalize_adapthist(A)\n",
    "io.imshow(image)\n",
    "plt.show()"
   ]
  },
  {
   "cell_type": "code",
   "execution_count": null,
   "metadata": {
    "collapsed": true
   },
   "outputs": [],
   "source": [
    "binary = filters.threshold_adaptive(exposure.adjust_sigmoid(A[:, :, 0], cutoff=0.4, gain = 30), 301).astype(bool)\n",
    "clean = morphology.binary_closing(binary, morphology.disk(3)).astype(bool)\n",
    "clean = morphology.remove_small_objects(clean, 200)\n",
    "clean = morphology.remove_small_objects( (1-clean).astype(bool), 200)\n",
    "\n",
    "io.imshow(clean)"
   ]
  },
  {
   "cell_type": "code",
   "execution_count": null,
   "metadata": {
    "collapsed": true
   },
   "outputs": [],
   "source": [
    "import matplotlib\n",
    "# Find contour of inflammatory zone\n",
    "\n",
    "local_density = filters.gaussian(clean, 61)\n",
    "local_density -= local_density.min()\n",
    "local_density /= local_density.max()\n",
    "\n",
    "ent = filters.gaussian(filters.rank.entropy(local_density, morphology.disk(3)), 75)\n",
    "ent -= ent.min()\n",
    "ent /= ent.max()\n",
    "\n",
    "info = ent * (1 + local_density)\n",
    "\n",
    "bw = (info) > filters.threshold_otsu(info)\n",
    "\n",
    "C = measure.find_contours(bw, 0.5)\n",
    "centroid = []\n",
    "vals = []\n",
    "\n",
    "for c in C :\n",
    "    centroid.append(np.linalg.norm([c[:, 1].mean() - bw.shape[1] / 2, c[:, 0].mean() - bw.shape[0] / 2]))\n",
    "    vals.append(local_density.T[c.astype(int)].sum())\n",
    "\n",
    "cent = C[np.argmin(centroid / np.array(vals))]\n",
    "path = matplotlib.path.Path(cent)\n",
    "\n",
    "io.imshow(image)\n",
    "plt.plot(cent[:, 1], cent[:, 0], lw=5, c=\"k\", alpha = 0.7)\n",
    "plt.grid(False)"
   ]
  },
  {
   "cell_type": "code",
   "execution_count": null,
   "metadata": {
    "collapsed": true
   },
   "outputs": [],
   "source": []
  }
 ],
 "metadata": {
  "kernelspec": {
   "display_name": "Python 3",
   "language": "python",
   "name": "python3"
  },
  "language_info": {
   "codemirror_mode": {
    "name": "ipython",
    "version": 3
   },
   "file_extension": ".py",
   "mimetype": "text/x-python",
   "name": "python",
   "nbconvert_exporter": "python",
   "pygments_lexer": "ipython3",
   "version": "3.6.2"
  }
 },
 "nbformat": 4,
 "nbformat_minor": 1
}
