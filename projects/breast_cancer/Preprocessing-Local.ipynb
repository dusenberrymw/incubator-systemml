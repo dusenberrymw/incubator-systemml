{
 "cells": [
  {
   "cell_type": "markdown",
   "metadata": {},
   "source": [
    "## Prior Setup:\n",
    "* Spark settings in `$SPARK_HOME/conf/spark-defaults.conf`:\n",
    "    * Laptop:\n",
    "    \n",
    "    ```\n",
    "    spark.driver.memory 12g\n",
    "    spark.driver.maxResultSize 0\n",
    "    spark.default.parallelism 100\n",
    "    spark.serializer org.apache.spark.serializer.KryoSerializer\n",
    "    ```\n",
    "    \n",
    "    * Server:\n",
    "    \n",
    "    ```\n",
    "    spark.driver.memory 70g\n",
    "    spark.executor.memory 100g\n",
    "    spark.driver.maxResultSize 0\n",
    "    spark.akka.frameSize 128\n",
    "    spark.driver.extraJavaOptions -server -Xmn12G\n",
    "    spark.executor.extraJavaOptions -server -Xmn12G\n",
    "    spark.local.dirs /disk2/local,/disk3/local,/disk4/local,/disk5/local,/disk6/local,/disk7/local,/disk8/local,/disk9/local,/disk10/local,/disk11/local,/disk12/local\n",
    "     spark.network.timeout 1000s\n",
    "    ```\n",
    "    \n",
    "* Spark started with:\n",
    "    * Laptop:\n",
    "\n",
    "    ```\n",
    "    PYSPARK_PYTHON=python3 PYSPARK_DRIVER_PYTHON=jupyter PYSPARK_DRIVER_PYTHON_OPTS=\"notebook\" pyspark --master local[*] --driver-class-path $SYSTEMML_HOME/target/SystemML.jar --jars $SYSTEMML_HOME/target/SystemML.jar\n",
    "    ```\n",
    "    \n",
    "    * Server:\n",
    "    \n",
    "    ```\n",
    "    PYSPARK_PYTHON=python3 PYSPARK_DRIVER_PYTHON=jupyter PYSPARK_DRIVER_PYTHON_OPTS=\"notebook\" pyspark --master spark://MASTER_URL:7077 --driver-class-path $SYSTEMML_HOME/target/SystemML.jar --jars $SYSTEMML_HOME/target/SystemML.jar\n",
    "    ```\n",
    "    \n",
    "* A `data` folder containing a `training_image_data` folder with at least the first two training slides.\n",
    "* A `training_ground_truth.csv` file in the `data` folder containing the tumor & molecular scores for each slide.\n",
    "* Layout:\n",
    "\n",
    "    ```\n",
    "    - Preprocessing.ipynb\n",
    "    - data/\n",
    "        - training_ground_truth.csv\n",
    "        - training_image_data\n",
    "            - slide1....\n",
    "            - slide2....\n",
    "            - ...\n",
    "    ```"
   ]
  },
  {
   "cell_type": "markdown",
   "metadata": {},
   "source": [
    "# Setup"
   ]
  },
  {
   "cell_type": "code",
   "execution_count": null,
   "metadata": {
    "collapsed": false
   },
   "outputs": [],
   "source": [
    "%load_ext autoreload\n",
    "%autoreload 2\n",
    "%matplotlib inline\n",
    "\n",
    "import functools\n",
    "import math\n",
    "import multiprocessing as mp\n",
    "\n",
    "import matplotlib.pyplot as plt\n",
    "import numpy as np\n",
    "import openslide\n",
    "from openslide.deepzoom import DeepZoomGenerator\n",
    "import pandas as pd\n",
    "from pyspark import StorageLevel\n",
    "from pyspark.mllib.linalg import Vectors\n",
    "# import systemml  # pip3 install systemml\n",
    "\n",
    "from scipy.ndimage.morphology import binary_fill_holes\n",
    "from skimage.color import rgb2gray\n",
    "from skimage.feature import canny\n",
    "from skimage.morphology import binary_closing, binary_dilation, disk\n",
    "\n",
    "plt.rcParams['figure.figsize'] = (10, 6)"
   ]
  },
  {
   "cell_type": "markdown",
   "metadata": {},
   "source": [
    "# Open Whole-Slide Image"
   ]
  },
  {
   "cell_type": "code",
   "execution_count": null,
   "metadata": {
    "collapsed": true
   },
   "outputs": [],
   "source": [
    "def open_slide(slide_num, dir=\"data/training_image_data\"):\n",
    "  \"\"\"\n",
    "  Open a whole-slide image, given an image number.\n",
    "  \n",
    "  Args:\n",
    "    slide_num: Slide image number as an integer.\n",
    "    dir: Directory in which the slides are stored, as a string.\n",
    "  \n",
    "  Returns:\n",
    "    An OpenSlide object representing a whole-slide image.\n",
    "  \"\"\"\n",
    "  filename = \"{0}/TUPAC-TR-{1}.svs\".format(dir, str(slide_num).zfill(3))\n",
    "  slide = openslide.open_slide(filename)\n",
    "  return slide"
   ]
  },
  {
   "cell_type": "raw",
   "metadata": {
    "collapsed": false
   },
   "source": [
    "# Open example slide\n",
    "slide_num = 2\n",
    "slide = open_slide(slide_num)\n",
    "slide"
   ]
  },
  {
   "cell_type": "markdown",
   "metadata": {},
   "source": [
    "# Create Tile Generator"
   ]
  },
  {
   "cell_type": "code",
   "execution_count": null,
   "metadata": {
    "collapsed": true
   },
   "outputs": [],
   "source": [
    "def create_tile_generator(slide, tile_size=1024, overlap=0):\n",
    "  \"\"\"\n",
    "  Create a tile generator for the given slide.\n",
    "  \n",
    "  This generator is able to extract tiles from the overall\n",
    "  whole-slide image.\n",
    "  \n",
    "  Args:\n",
    "    slide: An OpenSlide object representing a whole-slide image.\n",
    "    tile_size: The width and height of a square tile to be generated.\n",
    "    overlap: Number of pixels by which to overlap the tiles.\n",
    "  \n",
    "  Returns:\n",
    "    A DeepZoomGenerator object representing the tile generator. Each\n",
    "    extracted tile is an Image with shape (tile_size, tile_size, channels).\n",
    "    Note: This generator is not a true \"Python generator function\", but\n",
    "    rather is an object that is capable of extracting individual tiles.\n",
    "  \"\"\"\n",
    "  generator = DeepZoomGenerator(slide, tile_size=tile_size, overlap=overlap, limit_bounds=True)\n",
    "  return generator"
   ]
  },
  {
   "cell_type": "raw",
   "metadata": {
    "collapsed": false
   },
   "source": [
    "# Create tile generator\n",
    "generator = create_tile_generator(slide)\n",
    "generator"
   ]
  },
  {
   "cell_type": "markdown",
   "metadata": {},
   "source": [
    "# Determine 20x Magnification Zoom Level"
   ]
  },
  {
   "cell_type": "code",
   "execution_count": null,
   "metadata": {
    "collapsed": false
   },
   "outputs": [],
   "source": [
    "def get_20x_zoom_level(slide, generator):\n",
    "  \"\"\"\n",
    "  Return the zoom level that corresponds to a 20x magnification.\n",
    "  \n",
    "  The generator can extract tiles from multiple zoom levels, downsampling\n",
    "  by a factor of 2 per level from highest to lowest resolution.\n",
    "  \n",
    "  Args:\n",
    "    slide: An OpenSlide object representing a whole-slide image.\n",
    "    generator: A DeepZoomGenerator object representing a tile generator.\n",
    "      Note: This generator is not a true \"Python generator function\", but\n",
    "      rather is an object that is capable of extracting individual tiles.\n",
    "  \n",
    "  Returns:\n",
    "    Zoom level corresponding to a 20x magnification, or as close as possible.\n",
    "  \"\"\"\n",
    "  highest_zoom_level = generator.level_count - 1  # 0-based indexing\n",
    "  try:\n",
    "    mag = int(slide.properties[openslide.PROPERTY_NAME_OBJECTIVE_POWER])\n",
    "    # `mag / 20` gives the downsampling factor between the slide's\n",
    "    # magnification and the desired 20x magnification.\n",
    "    # `(mag / 20) / 2` gives the zoom level offset from the highest\n",
    "    # resolution level, based on a 2x downsampling factor in the\n",
    "    # generator.\n",
    "    offset = math.floor((mag / 20) / 2)\n",
    "    level = highest_zoom_level - offset\n",
    "  except ValueError:\n",
    "    # In case the slide magnification level is unknown, just\n",
    "    # use the highest resolution.\n",
    "    level = highest_zoom_level\n",
    "  return level"
   ]
  },
  {
   "cell_type": "raw",
   "metadata": {
    "collapsed": false
   },
   "source": [
    "# get 20x zoom level\n",
    "zoom_level = get_20x_zoom_level(slide, generator)\n",
    "zoom_level"
   ]
  },
  {
   "cell_type": "raw",
   "metadata": {
    "collapsed": true
   },
   "source": [
    "# confirm:\n",
    "mag = int(slide.properties[openslide.PROPERTY_NAME_OBJECTIVE_POWER])\n",
    "highest_zoom_level = generator.level_count - 1  # 0-based indexing\n",
    "print(mag)\n",
    "print(highest_zoom_level)"
   ]
  },
  {
   "cell_type": "markdown",
   "metadata": {},
   "source": [
    "# Generate Tile Indices For Whole-Slide Image."
   ]
  },
  {
   "cell_type": "code",
   "execution_count": null,
   "metadata": {
    "collapsed": true
   },
   "outputs": [],
   "source": [
    "def process_slide(slide_num, tile_size=1024, overlap=0):\n",
    "  \"\"\"\n",
    "  Generate all possible tile indices for a whole-slide image.\n",
    "  \n",
    "  Given a slide number, tile size, and overlap, generate\n",
    "  all possible (slide_num, tile_size, overlap, zoom_level, col, row)\n",
    "  indices.\n",
    "  \n",
    "  Args:\n",
    "    slide_num: Slide image number as an integer.\n",
    "    tile_size: The width and height of a square tile to be generated.\n",
    "    overlap: Number of pixels by which to overlap the tiles.\n",
    "  \n",
    "  Returns:\n",
    "    A list of (slide_num, tile_size, overlap, zoom_level, col, row)\n",
    "    integer index tuples representing possible tiles to extract.\n",
    "  \"\"\"\n",
    "  # Open slide.\n",
    "  slide = open_slide(slide_num)\n",
    "  # Create tile generator.\n",
    "  generator = create_tile_generator(slide, tile_size, overlap)\n",
    "  # Get 20x zoom level.\n",
    "  zoom_level = get_20x_zoom_level(slide, generator)\n",
    "  # Generate all possible (zoom_level, col, row) tile index tuples.\n",
    "  cols, rows = generator.level_tiles[zoom_level]\n",
    "  tile_indices = [(slide_num, tile_size, overlap, zoom_level, col, row)\n",
    "                  for col in range(cols) for row in range(rows)]\n",
    "  return tile_indices"
   ]
  },
  {
   "cell_type": "markdown",
   "metadata": {},
   "source": [
    "# Generate 1024x1024x3 Tile From Tile Index"
   ]
  },
  {
   "cell_type": "code",
   "execution_count": null,
   "metadata": {
    "collapsed": true
   },
   "outputs": [],
   "source": [
    "def process_tile_index(tile_index):\n",
    "  \"\"\"\n",
    "  Generate a tile from a tile index.\n",
    "  \n",
    "  Given a (slide_num, tile_size, overlap, zoom_level, col, row) tile\n",
    "  index, generate a (slide_num, tile) tuple.\n",
    "  \n",
    "  Args:\n",
    "    tile_index: A (slide_num, tile_size, overlap, zoom_level, col, row)\n",
    "      integer index tuple representing a tile to extract.\n",
    "  \n",
    "  Returns:\n",
    "    A (slide_num, tile) tuple, where slide_num is an integer, and tile\n",
    "    is a 3D NumPy array of shape (tile_size, tile_size, channels).\n",
    "  \"\"\"\n",
    "  slide_num, tile_size, overlap, zoom_level, col, row = tile_index\n",
    "  # Open slide.\n",
    "  slide = open_slide(slide_num)\n",
    "  # Create tile generator.\n",
    "  generator = create_tile_generator(slide, tile_size, overlap)\n",
    "  # Generate tile\n",
    "  tile = np.array(generator.get_tile(zoom_level, (col, row)))\n",
    "  return (slide_num, tile)"
   ]
  },
  {
   "cell_type": "markdown",
   "metadata": {},
   "source": [
    "# Filter Tile For Dimensions & 90% Tissue Threshold"
   ]
  },
  {
   "cell_type": "code",
   "execution_count": null,
   "metadata": {
    "collapsed": false
   },
   "outputs": [],
   "source": [
    "def calc_tissue_percentage(binary_tile):\n",
    "  \"\"\"\n",
    "  Calculate the percentage of the tile that is filled by tissue.\n",
    "  \n",
    "  Args:\n",
    "    binary_tile: A square region of a whole-slide image as a 2D\n",
    "      NumPy array that has been binarized to the pixel values\n",
    "      {0, 1}.  Pixels with a value of `1` represent tissue, while\n",
    "      pixels with a value of `0` represent background.\n",
    "  \n",
    "  Returns:\n",
    "    Percentage of tile that is filled by tissue.\n",
    "  \"\"\"\n",
    "  (x, y) = binary_tile.shape\n",
    "  percentage = binary_tile.sum() / (x * y)\n",
    "  # TODO: Try `binary_tile.mean()`\n",
    "  return percentage\n",
    "\n",
    "def keep_tile(tile_tuple, tile_size=1024, tissue_threshold=0.9):\n",
    "  \"\"\"\n",
    "  Determine if a tile should be kept.\n",
    "  \n",
    "  This filters out tiles based on size and a tissue percentage\n",
    "  threshold, using a custom algorithm. If a tile has height &\n",
    "  width equal to (tile_size, tile_size), and contains greater\n",
    "  than or equal to the given percentage, then it will be kept;\n",
    "  otherwise it will be filtered out.\n",
    "  \n",
    "  Args:\n",
    "    tile_tuple: A (slide_num, tile) tuple, where slide_num is an\n",
    "      integer, and tile is a 3D NumPy array of shape \n",
    "      (tile_size, tile_size, channels).\n",
    "    tissue_threshold: Tissue percentage threshold.\n",
    "  \n",
    "  Returns:\n",
    "    A Boolean indicating whether or not a tile should be kept\n",
    "    for future usage.\n",
    "  \"\"\"\n",
    "  slide_num, tile = tile_tuple\n",
    "  if tile.shape[0:2] == (tile_size, tile_size):\n",
    "    # Convert 3D RGB image to 2D grayscale image, from\n",
    "    # 0 (dense tissue) to 1 (plain background).\n",
    "    tile = rgb2gray(tile)\n",
    "    # 8-bit depth complement, from 1 (dense tissue)\n",
    "    # to 0 (plain background).\n",
    "    tile = 1 - tile\n",
    "    # Canny edge detection with hysteresis thresholding.\n",
    "    # This returns a binary map of edges, with 1 equal to\n",
    "    # an edge. The idea is that tissue would be full of\n",
    "    # edges, while background would not.\n",
    "    tile = canny(tile)\n",
    "    # Binary closing, which is a dilation followed by\n",
    "    # an erosion. This removes small dark spots, which\n",
    "    # helps remove noise in the background.\n",
    "    tile = binary_closing(tile, disk(10))\n",
    "    # Binary dilation, which enlarges bright areas,\n",
    "    # and shrinks dark areas. This helps fill in holes\n",
    "    # within regions of tissue.\n",
    "    tile = binary_dilation(tile, disk(10))\n",
    "    # Fill remaining holes within regions of tissue.\n",
    "    tile = binary_fill_holes(tile)\n",
    "    # Calculate percentage of tissue coverage.\n",
    "    percentage = calc_tissue_percentage(tile)\n",
    "    return percentage >= tissue_threshold\n",
    "  else:\n",
    "    return False"
   ]
  },
  {
   "cell_type": "markdown",
   "metadata": {},
   "source": [
    "# Generate Flattened 3x256x256 Samples From Tile"
   ]
  },
  {
   "cell_type": "code",
   "execution_count": null,
   "metadata": {
    "collapsed": true
   },
   "outputs": [],
   "source": [
    "def process_tile(tile_tuple, new_size=256, grayscale=False):\n",
    "  \"\"\"\n",
    "  Cut up a tile into smaller blocks of new_size x new_size pixels,\n",
    "  change the shape of each sample from (H, W, channels) to \n",
    "  (channels, H, W), then flatten each into a vector of length\n",
    "  channels*H*W.\n",
    "  \n",
    "  Args:\n",
    "    tile_tuple: A (slide_num, tile) tuple, where slide_num is an\n",
    "      integer, and tile is a 3D NumPy array of shape \n",
    "      (tile_size, tile_size, channels).\n",
    "    new_size: The new width and height of the square samples to be\n",
    "      generated.\n",
    "  \n",
    "  Returns:\n",
    "    A list of (slide_num, sample) tuples representing cut up tiles,\n",
    "    where each sample has been transposed from\n",
    "    (new_size_x, new_size_y, channels) to (channels, new_size_x, new_size_y),\n",
    "    and flattened to a vector of length (channels*new_size_x*new_size_y).\n",
    "  \"\"\"\n",
    "  slide_num, tile = tile_tuple\n",
    "  if grayscale:\n",
    "    tile = rgb2gray(tile)[:, :, np.newaxis]  # Grayscale\n",
    "  x, y, ch = tile.shape\n",
    "  # 1. Reshape into a 5D array of (num_x, new_size_x, num_y, new_size_y, ch), where\n",
    "  # num_x and num_y are the number of chopped tiles on the x and y axes, respectively.\n",
    "  # 2. Swap new_size_x and num_y axes to create (num_x, num_y, new_size_x, new_size_y, ch).\n",
    "  # 3. Combine num_x and num_y into single axis, returning\n",
    "  # (num_samples, new_size_x, new_size_y, ch).\n",
    "  # 4. Swap axes from (num_samples, new_size_x, new_size_y, ch) to\n",
    "  # (num_samples, ch, new_size_x, new_size_y).\n",
    "  # 5. Flatten samples into (num_samples, ch*new_size_x*new_size_y).\n",
    "  samples = (tile.reshape((x // new_size, new_size, y // new_size, new_size, ch))\n",
    "                 .swapaxes(1,2)\n",
    "                 .reshape((-1, new_size, new_size, ch))\n",
    "                 .transpose(0,3,1,2))\n",
    "  samples = samples.reshape(samples.shape[0], -1)\n",
    "  samples = [(slide_num, sample) for sample in list(samples)]\n",
    "  return samples"
   ]
  },
  {
   "cell_type": "markdown",
   "metadata": {},
   "source": [
    "# Visualize Tile"
   ]
  },
  {
   "cell_type": "code",
   "execution_count": null,
   "metadata": {
    "collapsed": false
   },
   "outputs": [],
   "source": [
    "def visualize_tile(tile):\n",
    "  \"\"\"\n",
    "  Plot a tissue tile.\n",
    "  \n",
    "  Args:\n",
    "    tile: A 3D NumPy array of shape (tile_size, tile_size, channels).\n",
    "  \n",
    "  Returns:\n",
    "    None\n",
    "  \"\"\"\n",
    "  plt.imshow(tile)\n",
    "  plt.show()"
   ]
  },
  {
   "cell_type": "markdown",
   "metadata": {},
   "source": [
    "# Visualize Sample"
   ]
  },
  {
   "cell_type": "code",
   "execution_count": null,
   "metadata": {
    "collapsed": false
   },
   "outputs": [],
   "source": [
    "def visualize_sample(sample, size=256):\n",
    "  \"\"\"\n",
    "  Plot a tissue sample.\n",
    "  \n",
    "  Args:\n",
    "    sample: A square sample flattened to a vector of size\n",
    "      (channels*size_x*size_y).\n",
    "    size: The width and height of the square samples.\n",
    "  \n",
    "  Returns:\n",
    "    None\n",
    "  \"\"\"\n",
    "  # Change type, reshape, transpose to (size_x, size_y, channels).\n",
    "  length = sample.shape[0]\n",
    "  channels = int(length / (size * size))\n",
    "  if channels > 1:\n",
    "    sample = sample.astype('uint8').reshape((channels, size, size)).transpose(1,2,0)\n",
    "    plt.imshow(sample)\n",
    "  else:\n",
    "    vmax = 255 if sample.max() > 1 else 1\n",
    "    sample = sample.reshape((size, size))\n",
    "    plt.imshow(sample, cmap=\"gray\", vmin=0, vmax=vmax)\n",
    "  plt.show()"
   ]
  },
  {
   "cell_type": "markdown",
   "metadata": {},
   "source": [
    "# Get Ground Truth Labels"
   ]
  },
  {
   "cell_type": "code",
   "execution_count": null,
   "metadata": {
    "collapsed": false
   },
   "outputs": [],
   "source": [
    "labels = pd.read_csv(\"data/training_ground_truth.csv\", names=[\"tumor_score\",\"molecular_score\"], header=None)\n",
    "labels[\"slide_num\"] = range(1, 501)\n",
    "\n",
    "# Create slide_num -> tumor_score and slide_num -> molecular_score dictionaries\n",
    "tumor_score_dict = {int(s): int(l) for s,l in zip(labels.slide_num, labels.tumor_score)}\n",
    "molecular_score_dict = {int(s): float(l) for s,l in zip(labels.slide_num, labels.molecular_score)}"
   ]
  },
  {
   "cell_type": "markdown",
   "metadata": {},
   "source": [
    "---"
   ]
  },
  {
   "cell_type": "markdown",
   "metadata": {},
   "source": [
    "# Process All Images"
   ]
  },
  {
   "cell_type": "markdown",
   "metadata": {},
   "source": [
    "## Singlenode"
   ]
  },
  {
   "cell_type": "raw",
   "metadata": {},
   "source": [
    "slide_num = 2\n",
    "tile_indices = process_slide(slide_num)\n",
    "tiles = (process_tile_index(tile_index) for tile_index in tile_indices)\n",
    "sample_groups = (process_tile_tuple(tile) for tile in tiles if keep_tile(tile))\n",
    "samples = (sample for group in sample_groups for sample in group)  # flatmap\n",
    "samples = list(samples)"
   ]
  },
  {
   "cell_type": "markdown",
   "metadata": {},
   "source": [
    "## Singlenode w/ multiprocessing"
   ]
  },
  {
   "cell_type": "raw",
   "metadata": {
    "collapsed": false
   },
   "source": [
    "def process(tile):\n",
    "  if keep_tile(tile):\n",
    "    sample_group = process_tile(tile)\n",
    "    return sample_group\n",
    "\n",
    "with mp.Pool(mp.cpu_count()-1) as pool:\n",
    "  slide_num = 2\n",
    "  tile_indices = process_slide(slide_num)\n",
    "  # Get all possible tiles, as a lazy generator expression.\n",
    "  tiles = (process_tile_index(tile_index) for tile_index in tile_indices)\n",
    "  # Filter tiles in parallel by size and tissue density, as a lazy generator expression.\n",
    "  sample_groups = pool.imap(process, tiles, chunksize=100)  # TODO: Try larger `chunksize`\n",
    "  # Gather all filtered tiles into 4D array of shape (N, tile_size, tile_size, channels).\n",
    "  sample_groups = (sample_group for sample_group in sample_groups if sample_group is not None)\n",
    "  samples = (sample for group in sample_groups for sample in group)  # flatmap\n",
    "  samples = list(samples)"
   ]
  },
  {
   "cell_type": "markdown",
   "metadata": {},
   "source": [
    "## Spark"
   ]
  },
  {
   "cell_type": "code",
   "execution_count": null,
   "metadata": {
    "collapsed": false
   },
   "outputs": [],
   "source": [
    "grayscale = True\n",
    "# Get list of image numbers, minus the broken ones\n",
    "# num_partitions = 20000  #1600\n",
    "# broken = {2, 45, 91, 112, 242, 256, 280, 313, 329, 467}\n",
    "# slide_nums = sorted(set(range(1,501)) - broken)\n",
    "num_partitions = 200\n",
    "slide_nums = [1, 2]\n",
    "slides = sc.parallelize(slide_nums)\n",
    "# Force even partitioning by collecting and parallelizing -- for memory issues\n",
    "# TODO: Try mapping tile_indices to a (random_num, tuple) pair, then sort by key\n",
    "tile_indices = slides.flatMap(process_slide).repartition(num_partitions).collect()\n",
    "tile_indices = sc.parallelize(tile_indices, num_partitions)\n",
    "tiles = tile_indices.map(process_tile_index)\n",
    "filtered_tiles = tiles.filter(keep_tile)\n",
    "samples = filtered_tiles.flatMap(lambda tile: process_tile(tile, grayscale=grayscale))\n",
    "# df = samples.map(lambda tup: (tup[0], Vectors.dense(tup[1]))).toDF([\"slide_num\", \"sample\"])\n",
    "df = (samples.map(lambda tup: \n",
    "                 (tup[0], tumor_score_dict[tup[0]], molecular_score_dict[tup[0]], \n",
    "                  Vectors.dense(tup[1])))\n",
    "              .toDF([\"slide_num\", \"tumor_score\", \"molecular_score\", \"sample\"]))\n",
    "df = df.select(df.slide_num.astype(\"int\"), df.tumor_score.astype(\"int\"),\n",
    "               df.molecular_score, df[\"sample\"])\n",
    "df = df.repartition(num_partitions)"
   ]
  },
  {
   "cell_type": "code",
   "execution_count": null,
   "metadata": {
    "collapsed": false
   },
   "outputs": [],
   "source": [
    "# df.write.mode('overwrite').save(\"data/samples_labels_df.parquet\", format=\"parquet\")\n",
    "#df.write.save(\"data/samples_labels_df.parquet\", format=\"parquet\")\n",
    "# df.write.save(\"data/samples_labels_df_grayscale.parquet\", format=\"parquet\")"
   ]
  },
  {
   "cell_type": "code",
   "execution_count": null,
   "metadata": {
    "collapsed": false
   },
   "outputs": [],
   "source": [
    "df"
   ]
  },
  {
   "cell_type": "raw",
   "metadata": {
    "collapsed": false
   },
   "source": [
    "df.rdd.getNumPartitions()"
   ]
  },
  {
   "cell_type": "markdown",
   "metadata": {},
   "source": [
    "---"
   ]
  },
  {
   "cell_type": "markdown",
   "metadata": {},
   "source": [
    "# Test Reading in Preprocessed DataFrame"
   ]
  },
  {
   "cell_type": "code",
   "execution_count": null,
   "metadata": {
    "collapsed": false
   },
   "outputs": [],
   "source": [
    "df2 = sqlContext.read.load(\"data/samples_labels_df.parquet\")\n",
    "channels = 3\n",
    "# df2 = sqlContext.read.load(\"data/samples_labels_df_grayscale.parquet\")\n",
    "# channels = 1"
   ]
  },
  {
   "cell_type": "code",
   "execution_count": null,
   "metadata": {
    "collapsed": false
   },
   "outputs": [],
   "source": [
    "df2"
   ]
  },
  {
   "cell_type": "code",
   "execution_count": null,
   "metadata": {
    "collapsed": false
   },
   "outputs": [],
   "source": [
    "df2.count()"
   ]
  },
  {
   "cell_type": "code",
   "execution_count": null,
   "metadata": {
    "collapsed": false,
    "scrolled": true
   },
   "outputs": [],
   "source": [
    "sample = df2.first().sample\n",
    "print(sample.array.dtype)\n",
    "visualize_sample(sample)"
   ]
  },
  {
   "cell_type": "code",
   "execution_count": null,
   "metadata": {
    "collapsed": false
   },
   "outputs": [],
   "source": [
    "df2.schema"
   ]
  },
  {
   "cell_type": "code",
   "execution_count": null,
   "metadata": {
    "collapsed": false
   },
   "outputs": [],
   "source": [
    "df2.repartition(100).rdd.getNumPartitions()"
   ]
  },
  {
   "cell_type": "raw",
   "metadata": {
    "collapsed": false
   },
   "source": [
    "df2.repartition(100).select(\"slide_num\").rdd.glom().map(len).collect()"
   ]
  },
  {
   "cell_type": "code",
   "execution_count": null,
   "metadata": {
    "collapsed": false
   },
   "outputs": [],
   "source": [
    "df2.groupBy(\"slide_num\").count().show()"
   ]
  },
  {
   "cell_type": "markdown",
   "metadata": {},
   "source": [
    "---"
   ]
  },
  {
   "cell_type": "markdown",
   "metadata": {},
   "source": [
    "# Explore Adding Ground Truth Labels"
   ]
  },
  {
   "cell_type": "raw",
   "metadata": {
    "collapsed": true
   },
   "source": [
    "# TODO: Look more into joins"
   ]
  },
  {
   "cell_type": "raw",
   "metadata": {
    "collapsed": false
   },
   "source": [
    "labels = pd.read_csv(\"data/training_ground_truth.csv\", names=[\"tumor_score\",\"molecular_score\"], header=None)\n",
    "labels[\"slide_num\"] = range(1, 501)\n",
    "\n",
    "# Create slide_num -> tumor_score and slide_num -> molecular_score dictionaries\n",
    "tumor_score_dict = {int(n): int(score) for n,score in zip(labels.slide_num, labels.tumor_score)}\n",
    "molecular_score_dict = {int(n): float(score) for n,score in zip(labels.slide_num, labels.molecular_score)}"
   ]
  },
  {
   "cell_type": "raw",
   "metadata": {},
   "source": [
    "from pyspark.sql.functions import udf\n",
    "from pyspark.sql.types import IntegerType\n",
    "\n",
    "tumor_scorer = udf(lambda slide_num: tumor_score_dict[slide_num], IntegerType())\n",
    "molecular_scorer = udf(lambda slide_num: molecular_score_dict[slide_num], IntegerType())\n",
    "\n",
    "\n",
    "df3 = (df2.withColumn(\"slide_num\", df2.slide_num.astype(\"int\"))\n",
    "          .withColumn(\"tumor_score\", tumor_scorer(\"slide_num\"))\n",
    "          .withColumn(\"molecular_score\", molecular_scorer(\"slide_num\")))\n",
    "df3"
   ]
  },
  {
   "cell_type": "raw",
   "metadata": {},
   "source": [
    "df3.take(3)"
   ]
  },
  {
   "cell_type": "raw",
   "metadata": {
    "collapsed": false
   },
   "source": [
    "labels_df = sqlContext.createDataFrame(labels)\n",
    "labels_df = labels_df.select(labels_df.slide_num.astype(\"int\"),\n",
    "                             labels_df.tumor_score.astype(\"int\"),\n",
    "                             labels_df.molecular_score)\n",
    "labels_df"
   ]
  },
  {
   "cell_type": "raw",
   "metadata": {
    "collapsed": false
   },
   "source": [
    "labels_df.take(3)"
   ]
  },
  {
   "cell_type": "raw",
   "metadata": {
    "collapsed": false
   },
   "source": [
    "df2.select(\"slide_num\").limit(3).collect()"
   ]
  },
  {
   "cell_type": "raw",
   "metadata": {
    "collapsed": false
   },
   "source": [
    "samples_labels_df2 = df2.select(\"slide_num\").join(labels_df, on=\"slide_num\", how=\"inner\")\n",
    "samples_labels_df2"
   ]
  },
  {
   "cell_type": "raw",
   "metadata": {
    "collapsed": false
   },
   "source": [
    "samples_labels_df2.head()"
   ]
  },
  {
   "cell_type": "raw",
   "metadata": {
    "collapsed": false
   },
   "source": [
    "df2.count()"
   ]
  },
  {
   "cell_type": "raw",
   "metadata": {
    "collapsed": false
   },
   "source": [
    "samples_labels_df2.count()"
   ]
  },
  {
   "cell_type": "code",
   "execution_count": null,
   "metadata": {
    "collapsed": true
   },
   "outputs": [],
   "source": []
  }
 ],
 "metadata": {
  "kernelspec": {
   "display_name": "Python 3 + Spark 1.6 + SystemML",
   "language": "python",
   "name": "pyspark3_1.6"
  },
  "language_info": {
   "codemirror_mode": {
    "name": "ipython",
    "version": 3
   },
   "file_extension": ".py",
   "mimetype": "text/x-python",
   "name": "python",
   "nbconvert_exporter": "python",
   "pygments_lexer": "ipython3",
   "version": "3.6.0"
  }
 },
 "nbformat": 4,
 "nbformat_minor": 1
}
