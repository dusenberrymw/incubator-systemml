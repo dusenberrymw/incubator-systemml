{
 "cells": [
  {
   "cell_type": "markdown",
   "metadata": {
    "deletable": true,
    "editable": true
   },
   "source": [
    "# Imports"
   ]
  },
  {
   "cell_type": "code",
   "execution_count": null,
   "metadata": {
    "collapsed": false,
    "deletable": true,
    "editable": true
   },
   "outputs": [],
   "source": [
    "%load_ext autoreload\n",
    "%autoreload 2\n",
    "%matplotlib inline\n",
    "\n",
    "import math\n",
    "import multiprocessing as mp\n",
    "import os\n",
    "\n",
    "from keras.applications.vgg16 import VGG16  #, preprocess_input\n",
    "from keras.callbacks import ModelCheckpoint, TensorBoard\n",
    "from keras.initializations import get_fans, normal\n",
    "from keras.layers import Dense, Dropout, Flatten, GlobalAveragePooling2D, Input, merge\n",
    "from keras.metrics import fmeasure, precision, recall\n",
    "from keras.models import Model\n",
    "from keras.optimizers import SGD\n",
    "# from keras.preprocessing.image import ImageDataGenerator\n",
    "from keras.regularizers import l2\n",
    "from keras.utils.np_utils import to_categorical\n",
    "import keras.backend as K\n",
    "import matplotlib.pyplot as plt\n",
    "import numpy as np\n",
    "from PIL import Image\n",
    "import tensorflow as tf\n",
    "\n",
    "# from breast_cancer import input_data\n",
    "from preprocessing.image import ImageDataGenerator  # multiprocessing ImageDataGenerator\n",
    "\n",
    "plt.rcParams['figure.figsize'] = (10, 10)"
   ]
  },
  {
   "cell_type": "markdown",
   "metadata": {
    "deletable": true,
    "editable": true
   },
   "source": [
    "# Settings"
   ]
  },
  {
   "cell_type": "code",
   "execution_count": null,
   "metadata": {
    "collapsed": false,
    "deletable": true,
    "editable": true
   },
   "outputs": [],
   "source": [
    "# os.environ['CUDA_VISIBLE_DEVICES'] = \"0\"\n",
    "size = 224\n",
    "channels = 3\n",
    "classes = 3\n",
    "p = 0.01\n",
    "val_p = 0.01\n",
    "batch_size = 64  # 1/2 per GPU; for 2 GPUs, 64 has 1.2x systems speedup over 32\n",
    "num_gpus = 2\n",
    "experiment = \"vgg16-{p}%-{num_gpus}-gpu-{batch_size}-batch-size-sanity\".format(num_gpus=num_gpus, p=p*100, batch_size=batch_size)"
   ]
  },
  {
   "cell_type": "markdown",
   "metadata": {
    "deletable": true,
    "editable": true
   },
   "source": [
    "# Setup experiment directory"
   ]
  },
  {
   "cell_type": "code",
   "execution_count": null,
   "metadata": {
    "collapsed": false,
    "deletable": true,
    "editable": true
   },
   "outputs": [],
   "source": [
    "def get_run_dir(path, new_run):\n",
    "  \"\"\"Create a directory for this training run.\"\"\"\n",
    "  os.makedirs(path, exist_ok=True)\n",
    "  num_experiments = len(os.listdir(path))\n",
    "  if new_run:\n",
    "    run = num_experiments  # run 0, 1, 2, ...\n",
    "  else:\n",
    "    run = min(0, num_experiments - 1)  # continue training\n",
    "  run_dir = os.path.join(path, str(run))\n",
    "  os.makedirs(run_dir, exist_ok=True)\n",
    "  return run_dir\n",
    "\n",
    "def get_experiment_dir(experiment, new_run=True):\n",
    "  \"\"\"Create an experiment directory for this experiment.\"\"\"\n",
    "  base_dir = os.path.join(\"experiments\", \"keras\", experiment)\n",
    "  exp_dir = get_run_dir(base_dir, new_run)\n",
    "  return exp_dir\n",
    "\n",
    "exp_dir = get_experiment_dir(experiment)\n",
    "print(exp_dir)"
   ]
  },
  {
   "cell_type": "markdown",
   "metadata": {
    "deletable": true,
    "editable": true
   },
   "source": [
    "# Create train & val data generators"
   ]
  },
  {
   "cell_type": "code",
   "execution_count": null,
   "metadata": {
    "collapsed": true,
    "deletable": true,
    "editable": true
   },
   "outputs": [],
   "source": [
    "def preprocess_input(x):\n",
    "  \"\"\"\n",
    "  Preprocesses a tensor encoding a batch of images.\n",
    "\n",
    "  Adapted from keras/applications/imagenet_utils.py\n",
    "\n",
    "  # Arguments\n",
    "      x: input Numpy tensor, 4D of shape (N, H, W, C).\n",
    "  # Returns\n",
    "      Preprocessed tensor.\n",
    "  \"\"\"\n",
    "  # Zero-center by subtracting mean pixel value per channel\n",
    "  # based on means from a 50%, evenly-distributed sample.\n",
    "  x[:, :, :, 0] -= 193.84669495\n",
    "  x[:, :, :, 1] -= 144.05839539\n",
    "  x[:, :, :, 2] -= 180.20623779 \n",
    "  x = x[:, :, :, ::-1]  # 'RGB'->'BGR'\n",
    "  return x\n",
    "\n",
    "# Multi-GPU exploitation\n",
    "def split(x, num_splits):\n",
    "  \"\"\"Split batch into K equal-sized batches.\"\"\"\n",
    "  # Split tensors evenly, even if it means throwing away a few examples.\n",
    "  samples = x.shape[0] // num_splits\n",
    "  x_splits = [arr[:samples] for arr in np.array_split(x, num_splits)]\n",
    "  return x_splits\n",
    "\n",
    "def gen_preprocessed_batch(batch_generator, num_gpus):\n",
    "  \"\"\"Yield preprocessed batches of x,y data.\"\"\"\n",
    "  for xs, ys in batch_generator:\n",
    "    yield split(preprocess_input(xs), num_gpus), split(ys, num_gpus)"
   ]
  },
  {
   "cell_type": "code",
   "execution_count": null,
   "metadata": {
    "collapsed": false,
    "deletable": true,
    "editable": true
   },
   "outputs": [],
   "source": [
    "tr_save_dir = \"images/{stage}/{p}\".format(stage=\"train\", p=p)\n",
    "val_save_dir = \"images/{stage}/{p}\".format(stage=\"val\", p=val_p)\n",
    "print(tr_save_dir, val_save_dir)"
   ]
  },
  {
   "cell_type": "code",
   "execution_count": null,
   "metadata": {
    "collapsed": false,
    "deletable": true,
    "editable": true
   },
   "outputs": [],
   "source": [
    "# Create train & val image generators\n",
    "try:\n",
    "  # For interactive work, kill any existing pool.\n",
    "  pool.terminate()\n",
    "except:\n",
    "  pass\n",
    "pool = mp.Pool(processes=8)\n",
    "train_datagen = ImageDataGenerator(pool=pool)#, horizontal_flip=True, vertical_flip=True) #,\n",
    "#                                    rotation_range=90, shear_range=0.1, zoom_range=0.5, fill_mode='reflect')\n",
    "val_datagen = ImageDataGenerator(pool=pool)\n",
    "train_generator_orig = train_datagen.flow_from_directory(tr_save_dir, batch_size=batch_size, target_size=(size, size))\n",
    "val_generator_orig = val_datagen.flow_from_directory(val_save_dir, batch_size=batch_size, target_size=(size, size))"
   ]
  },
  {
   "cell_type": "code",
   "execution_count": null,
   "metadata": {
    "collapsed": false,
    "deletable": true,
    "editable": true
   },
   "outputs": [],
   "source": [
    "# Create train & val preprocessed generators\n",
    "train_generator = gen_preprocessed_batch(train_generator_orig, num_gpus)\n",
    "val_generator = gen_preprocessed_batch(val_generator_orig, num_gpus)"
   ]
  },
  {
   "cell_type": "markdown",
   "metadata": {
    "deletable": true,
    "editable": true
   },
   "source": [
    "## Get number of samples"
   ]
  },
  {
   "cell_type": "code",
   "execution_count": null,
   "metadata": {
    "collapsed": false,
    "deletable": true,
    "editable": true,
    "scrolled": true
   },
   "outputs": [],
   "source": [
    "# Actual number of examples.\n",
    "tc = train_generator_orig.nb_sample\n",
    "vc = val_generator_orig.nb_sample\n",
    "\n",
    "# Effective number of examples for multi-GPU exploitation.\n",
    "# Note: Multi-GPU exploitation for data parallelism splits mini-batches\n",
    "# into a set of micro-batches to be run in parallel on each GPU, but\n",
    "# Keras will view the set of micro-batches as a single batch with\n",
    "# multiple sources of inputs (i.e. Keras will view a set of examples\n",
    "# being run in parallel as a single example with multiple sources of\n",
    "# inputs), so the effective number of samples will be divided by the\n",
    "# number of GPUs.\n",
    "train_samples = int(batch_size / num_gpus * 100) # math.ceil(tc/batch_size))\n",
    "val_samples = int(batch_size / num_gpus * 100) #math.ceil(vc/batch_size))\n",
    "\n",
    "print(tc, vc)\n",
    "print(train_samples, val_samples)"
   ]
  },
  {
   "cell_type": "markdown",
   "metadata": {
    "deletable": true,
    "editable": true
   },
   "source": [
    "## Generate class weights for training"
   ]
  },
  {
   "cell_type": "code",
   "execution_count": null,
   "metadata": {
    "collapsed": false,
    "deletable": true,
    "editable": true
   },
   "outputs": [],
   "source": [
    "class_counts = np.bincount(train_generator_orig.classes)\n",
    "class_weights = dict(zip(range(classes), min(class_counts) / class_counts))\n",
    "print(class_counts)\n",
    "print(class_weights)"
   ]
  },
  {
   "cell_type": "markdown",
   "metadata": {
    "deletable": true,
    "editable": true
   },
   "source": [
    "## Plot random images (Optional)"
   ]
  },
  {
   "cell_type": "code",
   "execution_count": null,
   "metadata": {
    "collapsed": true,
    "deletable": true,
    "editable": true
   },
   "outputs": [],
   "source": [
    "def show_random_image(save_dir):\n",
    "  c = np.random.randint(1, 4)\n",
    "  class_dir = os.path.join(save_dir, str(c))\n",
    "  files = os.listdir(class_dir)\n",
    "  i = np.random.randint(0, len(files))\n",
    "  fname = os.path.join(class_dir, files[i])\n",
    "  print(fname)\n",
    "  img = Image.open(fname)\n",
    "  plt.imshow(img)\n",
    "\n",
    "# show_random_image(tr_save_dir)"
   ]
  },
  {
   "cell_type": "code",
   "execution_count": null,
   "metadata": {
    "collapsed": false,
    "deletable": true,
    "editable": true
   },
   "outputs": [],
   "source": [
    "def plot(gen):\n",
    "  r, c = 6, 6\n",
    "  fig, ax = plt.subplots(r, c)\n",
    "  plt.setp(ax, xticks=[], yticks=[])\n",
    "  plt.tight_layout()\n",
    "  x, y = next(gen)\n",
    "  batch_size = x.shape[0]\n",
    "  for i in range(r):\n",
    "    for j in range(c):\n",
    "      if i*c + j < batch_size:\n",
    "        ax[i][j].imshow(x[i*c + j].astype(np.uint8))\n",
    "        ax[i][j].set_xlabel(y[i*c + j])\n",
    "\n",
    "plot(train_generator_orig)\n",
    "plot(val_generator_orig)"
   ]
  },
  {
   "cell_type": "markdown",
   "metadata": {
    "collapsed": true,
    "deletable": true,
    "editable": true
   },
   "source": [
    "# Training\n",
    "1. Setup VGG16 pretrained model with new input & output layers.\n",
    "2. Train new output layers (all others frozen).\n",
    "3. Fine tune [some subset of the] original layers.\n",
    "4. Profit."
   ]
  },
  {
   "cell_type": "markdown",
   "metadata": {
    "deletable": true,
    "editable": true
   },
   "source": [
    "## Setup training metrics & callbacks"
   ]
  },
  {
   "cell_type": "code",
   "execution_count": null,
   "metadata": {
    "collapsed": true,
    "deletable": true,
    "editable": true
   },
   "outputs": [],
   "source": [
    "# Setup training metrics & callbacks\n",
    "# Careful, TensorBoard callback could OOM with large validation set\n",
    "# TODO: Add input images to TensorBoard output (maybe as a separate callback)\n",
    "# TODO: Monitor size of input queues with callbacks\n",
    "model_filename = os.path.join(exp_dir, \"{val_loss:.2f}-{epoch:02d}.hdf5\")\n",
    "checkpointer = ModelCheckpoint(model_filename)\n",
    "tensorboard = TensorBoard(log_dir=exp_dir, write_graph=False)\n",
    "callbacks = [checkpointer, tensorboard]\n",
    "metrics = ['accuracy', fmeasure, precision, recall]"
   ]
  },
  {
   "cell_type": "markdown",
   "metadata": {
    "deletable": true,
    "editable": true
   },
   "source": [
    "## Setup VGG16 model"
   ]
  },
  {
   "cell_type": "code",
   "execution_count": null,
   "metadata": {
    "collapsed": false,
    "deletable": true,
    "editable": true
   },
   "outputs": [],
   "source": [
    "K.clear_session()\n",
    "\n",
    "# Custom final dense layer initializer\n",
    "def my_init(shape, name=None):\n",
    "  \"\"\"Gaussian scaled by sqrt(1/fan_in)\"\"\"\n",
    "  fan_in, fan_out = get_fans(shape, dim_ordering=K.image_dim_ordering())\n",
    "  s = np.sqrt(1. / fan_in)\n",
    "  return normal(shape, s, name=name)\n",
    "\n",
    "# Create model by replacing classifier of VGG16 model with new\n",
    "# classifier specific to the breast cancer problem.\n",
    "with tf.device(\"/cpu\"):\n",
    "  inputs = Input(shape=(size,size,channels))\n",
    "  vgg16 = VGG16(include_top=False)\n",
    "  x = vgg16(inputs)\n",
    "#   x = Flatten()(x)\n",
    "  x = GlobalAveragePooling2D()(x)\n",
    "#   x = Flatten(name='flatten')(x)\n",
    "#   x = Dense(4096, activation='relu', name='fc1')(x)\n",
    "#   x = Dense(4096, activation='relu', name='fc2')(x)\n",
    "#   x = Dense(classes, activation='softmax', name='predictions')(x)\n",
    "  preds = Dense(classes, init=my_init, activation=\"softmax\")(x)\n",
    "  base_model = Model(input=inputs, output=preds, name=\"vgg16\")\n",
    "\n",
    "# Multi-GPU exploitation via a linear combination of GPU loss functions.\n",
    "ins = []\n",
    "outs = []\n",
    "for i in range(num_gpus):\n",
    "  with tf.device(\"/gpu:{}\".format(i)):\n",
    "    x = Input(shape=(size,size,channels))  # split of batch\n",
    "    out = base_model(x)  # run split on shared model\n",
    "    ins.append(x)\n",
    "    outs.append(out)\n",
    "model = Model(input=ins, output=outs)  # multi-GPU, data-parallel model\n",
    "\n",
    "# Freeze all pre-trained VGG16 layers.\n",
    "for layer in vgg16.layers:\n",
    "  layer.trainable = False\n",
    "\n",
    "# Compile model.\n",
    "optim = SGD(lr=0.1, momentum=0.9, decay=0.99, nesterov=True)\n",
    "model.compile(optimizer=optim, loss=\"categorical_crossentropy\",\n",
    "              loss_weights=[1/num_gpus]*num_gpus, metrics=metrics)"
   ]
  },
  {
   "cell_type": "code",
   "execution_count": null,
   "metadata": {
    "collapsed": false,
    "deletable": true,
    "editable": true,
    "scrolled": true
   },
   "outputs": [],
   "source": [
    "# Explore model\n",
    "for x in model.inputs + model.outputs + model.metrics_tensors + model.targets:\n",
    "  print(x.name, x.device)  # check that tensor devices exploit multi-GPU\n",
    "\n",
    "for i, layer in enumerate(vgg16.layers):\n",
    "  print(i, layer.name)\n",
    "\n",
    "print(base_model.summary())"
   ]
  },
  {
   "cell_type": "code",
   "execution_count": null,
   "metadata": {
    "collapsed": true,
    "deletable": true,
    "editable": true
   },
   "outputs": [],
   "source": [
    "# Visualize Model\n",
    "# from IPython.display import SVG\n",
    "# from keras.utils.visualize_util import model_to_dot\n",
    "# SVG(model_to_dot(vgg16).create(prog='dot', format='svg'))"
   ]
  },
  {
   "cell_type": "markdown",
   "metadata": {
    "deletable": true,
    "editable": true
   },
   "source": [
    "## Train new softmax classifier"
   ]
  },
  {
   "cell_type": "code",
   "execution_count": null,
   "metadata": {
    "collapsed": false,
    "deletable": true,
    "editable": true,
    "scrolled": false
   },
   "outputs": [],
   "source": [
    "# Dual-GPU speedup: ~1.7-1.8x\n",
    "# Keras device placement improvements (metrics, losses) (no val or callbacks, full model):\n",
    "#   batch_size=32,  2 gpus, 100 iters, no keras changes: 128s, 108s, 107s\n",
    "#   batch_size=32,  2 gpus, 100 iters, w/ keras changes: 94s, 75s, 75s\n",
    "#   batch_size=32,  1 gpu,  100 iters, w/ keras changes: 148s, 133s, 133s\n",
    "#   batch_size=64,  2 gpus,  50 iters, w/ keras changes: 93s, 74s, 75s\n",
    "#   batch_size=128, 2 gpus,  25 iters, w/ keras changes: 90s, 73s, 74s\n",
    "epochs = 1\n",
    "model.fit_generator(train_generator, samples_per_epoch=train_samples,\n",
    "                    validation_data=val_generator, nb_val_samples=val_samples,\n",
    "                    nb_epoch=epochs, class_weight=class_weights, callbacks=callbacks,\n",
    "                    max_q_size=8, nb_worker=1, pickle_safe=False)"
   ]
  },
  {
   "cell_type": "markdown",
   "metadata": {
    "deletable": true,
    "editable": true
   },
   "source": [
    "## Fine-tune model"
   ]
  },
  {
   "cell_type": "code",
   "execution_count": null,
   "metadata": {
    "collapsed": false,
    "deletable": true,
    "editable": true
   },
   "outputs": [],
   "source": [
    "# Unfreeze some subset of the model and fine-tune by training slowly with low lr.\n",
    "for layer in vgg16.layers[15:]:  # unfreeze final 2 blocks + exit flow ([11:])\n",
    "  layer.trainable = True\n",
    "\n",
    "optim = SGD(lr=0.0001, momentum=0.9)\n",
    "model.compile(optimizer=optim, loss='categorical_crossentropy', metrics=metrics)"
   ]
  },
  {
   "cell_type": "code",
   "execution_count": null,
   "metadata": {
    "collapsed": false,
    "deletable": true,
    "editable": true
   },
   "outputs": [],
   "source": [
    "# Explore model\n",
    "print(model.summary())"
   ]
  },
  {
   "cell_type": "code",
   "execution_count": null,
   "metadata": {
    "collapsed": false,
    "deletable": true,
    "editable": true
   },
   "outputs": [],
   "source": [
    "initial_epoch = epochs\n",
    "epochs = initial_epoch + 15\n",
    "model.fit_generator(train_generator, samples_per_epoch=train_samples,\n",
    "                    validation_data=val_generator, nb_val_samples=val_samples,\n",
    "                    nb_epoch=epochs, initial_epoch=initial_epoch,\n",
    "                    class_weight=class_weights, callbacks=callbacks,\n",
    "                    max_q_size=8, nb_worker=1, pickle_safe=False)"
   ]
  },
  {
   "cell_type": "markdown",
   "metadata": {
    "deletable": true,
    "editable": true
   },
   "source": [
    "## Evaluate model on validation set"
   ]
  },
  {
   "cell_type": "code",
   "execution_count": null,
   "metadata": {
    "collapsed": false,
    "deletable": true,
    "editable": true
   },
   "outputs": [],
   "source": [
    "raw_metrics = model.evaluate_generator(val_generator, val_samples=val_samples,\n",
    "                                       max_q_size=8, nb_worker=1, pickle_safe=False)\n",
    "labeled_metrics = list(zip(model.metrics_names, raw_metrics))\n",
    "losses = [v for k,v in labeled_metrics if k == \"loss\"]\n",
    "accuracies = [v for k,v in labeled_metrics if k.endswith(\"acc\")]\n",
    "loss = sum(losses) / num_gpus\n",
    "acc = sum(accuracies) / num_gpus\n",
    "metrics = {\"loss\": loss, \"acc\": acc}\n",
    "print(labeled_metrics)\n",
    "print(metrics)"
   ]
  },
  {
   "cell_type": "markdown",
   "metadata": {
    "deletable": true,
    "editable": true
   },
   "source": [
    "## Save model"
   ]
  },
  {
   "cell_type": "code",
   "execution_count": null,
   "metadata": {
    "collapsed": false,
    "deletable": true,
    "editable": true
   },
   "outputs": [],
   "source": [
    "filename = \"{acc:.5}_acc_{loss:.5}_loss_model.hdf5\".format(**metrics)\n",
    "model.save(os.path.join(exp_dir, filename))"
   ]
  },
  {
   "cell_type": "markdown",
   "metadata": {
    "deletable": true,
    "editable": true
   },
   "source": [
    "# Cleanup"
   ]
  },
  {
   "cell_type": "code",
   "execution_count": null,
   "metadata": {
    "collapsed": false,
    "deletable": true,
    "editable": true
   },
   "outputs": [],
   "source": [
    "# Stop processes cleanly.  Otherwise, zombie processes will\n",
    "# persist and hold onto GPU memory.\n",
    "try:\n",
    "    pool.terminate()\n",
    "except:\n",
    "    pass\n",
    "for p in mp.active_children():\n",
    "  p.terminate()\n",
    "mp.active_children()"
   ]
  }
 ],
 "metadata": {
  "anaconda-cloud": {},
  "kernelspec": {
   "display_name": "Python 3",
   "language": "python",
   "name": "python3"
  },
  "language_info": {
   "codemirror_mode": {
    "name": "ipython",
    "version": 3
   },
   "file_extension": ".py",
   "mimetype": "text/x-python",
   "name": "python",
   "nbconvert_exporter": "python",
   "pygments_lexer": "ipython3",
   "version": "3.6.0"
  }
 },
 "nbformat": 4,
 "nbformat_minor": 1
}
