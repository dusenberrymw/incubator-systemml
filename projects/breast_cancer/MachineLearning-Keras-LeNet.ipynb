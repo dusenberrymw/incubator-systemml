{
 "cells": [
  {
   "cell_type": "markdown",
   "metadata": {
    "deletable": true,
    "editable": true
   },
   "source": [
    "# Imports"
   ]
  },
  {
   "cell_type": "code",
   "execution_count": null,
   "metadata": {
    "collapsed": false,
    "deletable": true,
    "editable": true
   },
   "outputs": [],
   "source": [
    "%load_ext autoreload\n",
    "%autoreload 2\n",
    "%matplotlib inline\n",
    "\n",
    "import math\n",
    "import os\n",
    "\n",
    "from keras.callbacks import ModelCheckpoint, TensorBoard\n",
    "from keras.initializations import get_fans, normal\n",
    "from keras.layers import Convolution2D, Dense, Dropout, Flatten, Input, MaxPooling2D, merge\n",
    "from keras.models import Model\n",
    "from keras.optimizers import SGD\n",
    "from keras.preprocessing.image import ImageDataGenerator\n",
    "from keras.regularizers import l2\n",
    "from keras.utils.np_utils import to_categorical\n",
    "import keras.backend as K\n",
    "import matplotlib.pyplot as plt\n",
    "import numpy as np\n",
    "from PIL import Image\n",
    "import tensorflow as tf\n",
    "\n",
    "# from breast_cancer import input_data\n",
    "\n",
    "plt.rcParams['figure.figsize'] = (10, 6)"
   ]
  },
  {
   "cell_type": "markdown",
   "metadata": {
    "deletable": true,
    "editable": true
   },
   "source": [
    "# Settings"
   ]
  },
  {
   "cell_type": "code",
   "execution_count": null,
   "metadata": {
    "collapsed": false,
    "deletable": true,
    "editable": true
   },
   "outputs": [],
   "source": [
    "# os.environ['CUDA_VISIBLE_DEVICES'] = \"\"  #0\"\n",
    "# c = tf.ConfigProto()\n",
    "# c.gpu_options.visible_device_list=\"0\"\n",
    "# sess = tf.Session(config=c)\n",
    "# K.set_session(sess)"
   ]
  },
  {
   "cell_type": "code",
   "execution_count": null,
   "metadata": {
    "collapsed": true,
    "deletable": true,
    "editable": true
   },
   "outputs": [],
   "source": [
    "SIZE = 256\n",
    "CHANNELS = 3\n",
    "FEATURES = SIZE * SIZE * CHANNELS\n",
    "CLASSES = 3\n",
    "p = 0.01\n",
    "val_p = 0.01\n",
    "batch_size = 32  # 1/2 per GPU\n",
    "num_gpus = 2\n",
    "use_caching = False"
   ]
  },
  {
   "cell_type": "code",
   "execution_count": null,
   "metadata": {
    "collapsed": false,
    "deletable": true,
    "editable": true
   },
   "outputs": [],
   "source": [
    "EXPERIMENT = \"lenet-{p}%-multi-gpu-{batch_size}-batch-size-sanity\".format(p=p, batch_size=batch_size)\n",
    "# EXPERIMENT = \"lenet-{p}%-multi-gpu-{batch_size}-batch-size\".format(p=p, batch_size=batch_size)"
   ]
  },
  {
   "cell_type": "markdown",
   "metadata": {
    "deletable": true,
    "editable": true
   },
   "source": [
    "# Setup experiment directory"
   ]
  },
  {
   "cell_type": "code",
   "execution_count": null,
   "metadata": {
    "collapsed": false,
    "deletable": true,
    "editable": true
   },
   "outputs": [],
   "source": [
    "def get_run_dir(path):\n",
    "  \"\"\"Create a new directory for this training run.\"\"\"\n",
    "  os.makedirs(path, exist_ok=True)\n",
    "  run = len(os.listdir(path))  # run 0, 1, 2, ...\n",
    "  run_dir = os.path.join(path, str(run))\n",
    "  os.makedirs(run_dir)\n",
    "  return run_dir\n",
    "\n",
    "def get_experiment_dir(experiment):\n",
    "  \"\"\"Create an experiment directory for this experiment.\"\"\"\n",
    "  base_dir = os.path.join(\"experiments\", \"keras\", experiment)\n",
    "  exp_dir = get_run_dir(base_dir)\n",
    "  return exp_dir\n",
    "\n",
    "exp_dir = get_experiment_dir(EXPERIMENT)\n",
    "print(exp_dir)"
   ]
  },
  {
   "cell_type": "markdown",
   "metadata": {
    "deletable": true,
    "editable": true
   },
   "source": [
    "# Create train & val data generators"
   ]
  },
  {
   "cell_type": "code",
   "execution_count": null,
   "metadata": {
    "collapsed": false,
    "deletable": true,
    "editable": true
   },
   "outputs": [],
   "source": [
    "tr_save_dir = \"images/{stage}/{p}\".format(stage=\"train\", p=p)\n",
    "val_save_dir = \"images/{stage}/{p}\".format(stage=\"val\", p=val_p)\n",
    "print(tr_save_dir, val_save_dir)"
   ]
  },
  {
   "cell_type": "code",
   "execution_count": null,
   "metadata": {
    "collapsed": false,
    "deletable": true,
    "editable": true
   },
   "outputs": [],
   "source": [
    "train_datagen = ImageDataGenerator()\n",
    "val_datagen = ImageDataGenerator()\n",
    "train_generator_orig = train_datagen.flow_from_directory(tr_save_dir, batch_size=batch_size)\n",
    "val_generator_orig = val_datagen.flow_from_directory(val_save_dir, batch_size=batch_size)"
   ]
  },
  {
   "cell_type": "code",
   "execution_count": null,
   "metadata": {
    "collapsed": true,
    "deletable": true,
    "editable": true
   },
   "outputs": [],
   "source": [
    "# def preprocess_input(x):\n",
    "#   \"\"\"\n",
    "#   Preprocesses a tensor encoding a batch of images.\n",
    "\n",
    "#   Adapted from keras/applications/imagenet_utils.py\n",
    "\n",
    "#   # Arguments\n",
    "#       x: input Numpy tensor, 4D of shape (N, H, W, C).\n",
    "#   # Returns\n",
    "#       Preprocessed tensor.\n",
    "#   \"\"\"\n",
    "#   # Zero-center by subtracting mean pixel value per channel\n",
    "#   # based on means from a 50%, evenly-distributed sample.\n",
    "#   x[:, :, :, 0] -= 193.84669495\n",
    "#   x[:, :, :, 1] -= 144.05839539\n",
    "#   x[:, :, :, 2] -= 180.20623779\n",
    "#   # 'RGB'->'BGR' \n",
    "#   #x = x[:, :, :, ::-1]\n",
    "#   x /= 255\n",
    "#   return x\n",
    "\n",
    "def preprocess_input(x):\n",
    "    x /= 255.\n",
    "    x -= 0.5\n",
    "    x *= 2.\n",
    "    return x\n",
    "\n",
    "# Multi-GPU exploitation\n",
    "def split(x, num_splits):\n",
    "  \"\"\"Split batch into K equal-sized batches.\"\"\"\n",
    "  # Split tensors evenly, even if it means throwing away a few examples.\n",
    "  samples = x.shape[0] // num_splits\n",
    "  x_splits = [arr[:samples] for arr in np.array_split(x, num_splits)]\n",
    "  return x_splits\n",
    "\n",
    "def gen_preprocessed_batch(batch_generator):\n",
    "  \"\"\"Yield preprocessed batches of x,y data.\"\"\"\n",
    "  for xs, ys in batch_generator:\n",
    "    yield split(preprocess_input(xs), num_gpus), split(ys, num_gpus)"
   ]
  },
  {
   "cell_type": "code",
   "execution_count": null,
   "metadata": {
    "collapsed": false,
    "deletable": true,
    "editable": true
   },
   "outputs": [],
   "source": [
    "# Create train & val preprocessed generators\n",
    "train_generator = gen_preprocessed_batch(train_generator_orig)\n",
    "val_generator = gen_preprocessed_batch(val_generator_orig)"
   ]
  },
  {
   "cell_type": "markdown",
   "metadata": {
    "deletable": true,
    "editable": true
   },
   "source": [
    "## Get number of samples"
   ]
  },
  {
   "cell_type": "code",
   "execution_count": null,
   "metadata": {
    "collapsed": false,
    "deletable": true,
    "editable": true,
    "scrolled": true
   },
   "outputs": [],
   "source": [
    "tc = train_generator_orig.nb_sample\n",
    "vc = val_generator_orig.nb_sample\n",
    "print(tc, vc)"
   ]
  },
  {
   "cell_type": "markdown",
   "metadata": {
    "deletable": true,
    "editable": true
   },
   "source": [
    "## Generate class weights for training"
   ]
  },
  {
   "cell_type": "code",
   "execution_count": null,
   "metadata": {
    "collapsed": false,
    "deletable": true,
    "editable": true
   },
   "outputs": [],
   "source": [
    "class_counts = np.bincount(train_generator_orig.classes)\n",
    "class_weights = dict(zip(range(CLASSES), min(class_counts) / class_counts))\n",
    "print(class_counts)\n",
    "print(class_weights)"
   ]
  },
  {
   "cell_type": "markdown",
   "metadata": {
    "deletable": true,
    "editable": true
   },
   "source": [
    "## Fetch random image"
   ]
  },
  {
   "cell_type": "code",
   "execution_count": null,
   "metadata": {
    "collapsed": true,
    "deletable": true,
    "editable": true
   },
   "outputs": [],
   "source": [
    "def show_random_image(save_dir):\n",
    "  c = np.random.randint(1, 4)\n",
    "  class_dir = os.path.join(save_dir, str(c))\n",
    "  files = os.listdir(class_dir)\n",
    "  i = np.random.randint(0, len(files))\n",
    "  fname = os.path.join(class_dir, files[i])\n",
    "  print(fname)\n",
    "  img = Image.open(fname)\n",
    "  plt.imshow(img)"
   ]
  },
  {
   "cell_type": "code",
   "execution_count": null,
   "metadata": {
    "collapsed": false,
    "deletable": true,
    "editable": true
   },
   "outputs": [],
   "source": [
    "# show_random_image(tr_save_dir)"
   ]
  },
  {
   "cell_type": "markdown",
   "metadata": {
    "collapsed": true,
    "deletable": true,
    "editable": true
   },
   "source": [
    "# Keras"
   ]
  },
  {
   "cell_type": "markdown",
   "metadata": {
    "deletable": true,
    "editable": true
   },
   "source": [
    "## LeNet-like Model"
   ]
  },
  {
   "cell_type": "code",
   "execution_count": null,
   "metadata": {
    "collapsed": true,
    "deletable": true,
    "editable": true
   },
   "outputs": [],
   "source": [
    "# Setup training callbacks\n",
    "# Careful, TensorBoard callback could OOM with large validation set\n",
    "# TODO: Add input images to TensorBoard output (maybe as a separate callback)\n",
    "# TODO: Monitor size of input queues with callbacks\n",
    "model_filename = os.path.join(exp_dir, \"{val_loss:.2f}-{epoch:02d}.hdf5\")\n",
    "checkpointer = ModelCheckpoint(model_filename)\n",
    "tensorboard = TensorBoard(log_dir=exp_dir, write_graph=False)  #, histogram_freq=1, write_images=True)\n",
    "callbacks = [checkpointer, tensorboard]"
   ]
  },
  {
   "cell_type": "code",
   "execution_count": null,
   "metadata": {
    "collapsed": true,
    "deletable": true,
    "editable": true
   },
   "outputs": [],
   "source": [
    "# Custom final dense layer initializer\n",
    "def my_init(shape, name=None, dim_ordering='tf'):\n",
    "  \"\"\"Gaussian scaled by sqrt(1/fan_in)\"\"\"\n",
    "  fan_in, fan_out = get_fans(shape, dim_ordering=dim_ordering)\n",
    "  s = np.sqrt(1. / fan_in)\n",
    "  return normal(shape, s, name=name)"
   ]
  },
  {
   "cell_type": "code",
   "execution_count": null,
   "metadata": {
    "collapsed": false,
    "deletable": true,
    "editable": true
   },
   "outputs": [],
   "source": [
    "K.clear_session()\n",
    "# Create a \"LeNet\"-like model\n",
    "f = 3\n",
    "inputs = Input(shape=(SIZE,SIZE,CHANNELS))\n",
    "x = Convolution2D(32, f, f, init=\"he_normal\", border_mode=\"same\", activation=\"relu\")(inputs)\n",
    "x = MaxPooling2D()(x)\n",
    "x = Convolution2D(32, f, f, init=\"he_normal\", border_mode=\"same\", activation=\"relu\")(x)\n",
    "x = MaxPooling2D()(x)\n",
    "x = Convolution2D(32, f, f, init=\"he_normal\", border_mode=\"same\", activation=\"relu\")(x)\n",
    "x = MaxPooling2D()(x)\n",
    "x = Dropout(0.25)(x)\n",
    "x = Flatten()(x)\n",
    "x = Dense(256, init=\"he_normal\", activation=\"relu\")(x)\n",
    "x = Dropout(0.5)(x)\n",
    "preds = Dense(CLASSES, init=my_init, activation=\"softmax\")(x)\n",
    "lenet = Model(input=inputs, output=preds, name=\"lenet\")\n",
    "\n",
    "# Multi-GPU exploitation via a linear combination of GPU loss functions.\n",
    "with tf.device(\"/gpu:0\"):\n",
    "  x0 = Input(shape=(SIZE,SIZE,CHANNELS))  # first split of batch\n",
    "  out0 = lenet(x0)  # run first split on shared model\n",
    "with tf.device(\"/gpu:1\"):\n",
    "  x1 = Input(shape=(SIZE,SIZE,CHANNELS))  # second split of batch\n",
    "  out1 = lenet(x1)  # run second split on shared model\n",
    "model = Model(input=[x0, x1], output=[out0, out1])  # data-parallel model\n",
    "\n",
    "# Add L2 regularization (\"weight decay\")\n",
    "for layer in lenet.layers:\n",
    "  if hasattr(layer, 'W_regularizer'):\n",
    "    layer.W_regularizer = l2(1e-4)\n",
    "\n",
    "# Compile model.\n",
    "# optim = SGD(lr=0.01, momentum=0.9, decay=0.0, nesterov=True)\n",
    "model.compile(optimizer=\"rmsprop\", loss=\"categorical_crossentropy\",\n",
    "              loss_weights=[1/num_gpus]*num_gpus, metrics=['accuracy'])"
   ]
  },
  {
   "cell_type": "code",
   "execution_count": null,
   "metadata": {
    "collapsed": false,
    "deletable": true,
    "editable": true
   },
   "outputs": [],
   "source": [
    "model.summary()"
   ]
  },
  {
   "cell_type": "code",
   "execution_count": null,
   "metadata": {
    "collapsed": false,
    "deletable": true,
    "editable": true
   },
   "outputs": [],
   "source": [
    "# from IPython.display import SVG\n",
    "# from keras.utils.visualize_util import model_to_dot\n",
    "# SVG(model_to_dot(lenet).create(prog='dot', format='svg'))"
   ]
  },
  {
   "cell_type": "code",
   "execution_count": null,
   "metadata": {
    "collapsed": true,
    "deletable": true,
    "editable": true
   },
   "outputs": [],
   "source": [
    "# for i, layer in enumerate(lenet.layers):\n",
    "#   print(i, layer.name)"
   ]
  },
  {
   "cell_type": "code",
   "execution_count": null,
   "metadata": {
    "collapsed": false,
    "deletable": true,
    "editable": true
   },
   "outputs": [],
   "source": [
    "# Train the new softmax layer\n",
    "# Note: Multi-GPU exploitation for data parallelism splits mini-batches\n",
    "# into a set of micro-batches to be run in parallel on each GPU, but\n",
    "# Keras will view the set of micro-batches as a single batch with\n",
    "# multiple sources of inputs (i.e. Keras will view a set of examples\n",
    "# being run in parallel as a single example with multiple sources of\n",
    "# inputs), so the effective number of samples will be divided by the\n",
    "# number of GPUs.\n",
    "# GPU speedup:\n",
    "#   1000s/epoch -> 620s/epoch (1.6x) for batch_size=32\n",
    "# num workers + queue size experiments (100 batches):\n",
    "#   231s w/ 1 worker + 10 q-size; 117s w/ 2 workers + 10 q-size\n",
    "#   77s w/ 4 workers + 10 q-size; 79 w/ 8 workers + 10 q-size\n",
    "#   75s w/ 4 workers + 4 q-size; 77s w/ 4 workers + 8 q-size;\n",
    "#   76s w/ 4 workers + 16 q-size; 76s w/ 8 workers + 16 q-size;\n",
    "train_samples = batch_size / num_gpus * math.ceil(tc/batch_size)\n",
    "val_samples = batch_size / num_gpus * math.ceil(vc/batch_size)\n",
    "epochs = 20\n",
    "model.fit_generator(train_generator, samples_per_epoch=train_samples,\n",
    "                    validation_data=val_generator, nb_val_samples=val_samples,\n",
    "                    nb_epoch=epochs, class_weight=class_weights, callbacks=callbacks,\n",
    "                    max_q_size=8, nb_worker=4, pickle_safe=True)"
   ]
  },
  {
   "cell_type": "code",
   "execution_count": null,
   "metadata": {
    "collapsed": false,
    "deletable": true,
    "editable": true
   },
   "outputs": [],
   "source": [
    "# Evaluate model on validation set\n",
    "raw_metrics = model.evaluate_generator(val_generator, val_samples=val_samples,\n",
    "                                       max_q_size=8, nb_worker=4, pickle_safe=True)\n",
    "labeled_metrics = list(zip(model.metrics_names, raw_metrics))\n",
    "losses = [v for k,v in labeled_metrics if k == \"loss\"]\n",
    "accuracies = [v for k,v in labeled_metrics if k.endswith(\"acc\")]\n",
    "loss = sum(losses) / num_gpus\n",
    "acc = sum(accuracies) / num_gpus\n",
    "metrics = {\"loss\": loss, \"acc\": acc}\n",
    "print(labeled_metrics)\n",
    "print(metrics)"
   ]
  },
  {
   "cell_type": "code",
   "execution_count": null,
   "metadata": {
    "collapsed": false,
    "deletable": true,
    "editable": true
   },
   "outputs": [],
   "source": [
    "# Save model\n",
    "filename = \"{acc:.5}_acc_{loss:.5}_loss_model.hdf5\".format(**metrics)\n",
    "model.save(os.path.join(exp_dir, filename))"
   ]
  },
  {
   "cell_type": "code",
   "execution_count": null,
   "metadata": {
    "collapsed": false,
    "deletable": true,
    "editable": true
   },
   "outputs": [],
   "source": [
    "# Stop processes cleanly\n",
    "# (otherwise, zombie processes will persist and hold onto GPU memory)\n",
    "import multiprocessing as mp\n",
    "for p in mp.active_children():\n",
    "  p.terminate()\n",
    "mp.active_children()"
   ]
  }
 ],
 "metadata": {
  "anaconda-cloud": {},
  "kernelspec": {
   "display_name": "Python 3",
   "language": "python",
   "name": "python3"
  },
  "language_info": {
   "codemirror_mode": {
    "name": "ipython",
    "version": 3
   },
   "file_extension": ".py",
   "mimetype": "text/x-python",
   "name": "python",
   "nbconvert_exporter": "python",
   "pygments_lexer": "ipython3",
   "version": "3.6.0"
  }
 },
 "nbformat": 4,
 "nbformat_minor": 1
}
