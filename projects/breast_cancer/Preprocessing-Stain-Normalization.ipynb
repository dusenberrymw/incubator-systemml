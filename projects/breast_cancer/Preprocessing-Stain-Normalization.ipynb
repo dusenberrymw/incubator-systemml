{
 "cells": [
  {
   "cell_type": "code",
   "execution_count": null,
   "metadata": {
    "collapsed": false,
    "deletable": true,
    "editable": true
   },
   "outputs": [],
   "source": [
    "%load_ext autoreload\n",
    "%autoreload 2\n",
    "%matplotlib inline\n",
    "\n",
    "import matplotlib.pyplot as plt\n",
    "import numpy as np\n",
    "import scipy\n",
    "import scipy.sparse.linalg\n",
    "from PIL import Image\n",
    "\n",
    "plt.rcParams['figure.figsize'] = (10, 6)"
   ]
  },
  {
   "cell_type": "code",
   "execution_count": null,
   "metadata": {
    "collapsed": false,
    "deletable": true,
    "editable": true
   },
   "outputs": [],
   "source": [
    "def plot(x1, x2):\n",
    "  print(\"x1 mean: \", np.mean(x1, axis=(0,1)))\n",
    "  print(\"x2 mean: \", np.mean(x2, axis=(0,1)))\n",
    "  fig, ax = plt.subplots(1,2)\n",
    "  plt.setp(ax, xticks=[], yticks=[])\n",
    "  plt.tight_layout()\n",
    "  ax[0].imshow(x1)\n",
    "  ax[1].imshow(x2)\n",
    "  plt.show()"
   ]
  },
  {
   "cell_type": "code",
   "execution_count": null,
   "metadata": {
    "collapsed": false,
    "deletable": true,
    "editable": true
   },
   "outputs": [],
   "source": [
    "def normalize_staining(x, beta=0.15, alpha=1, light_intensity=255):\n",
    "  \"\"\"\n",
    "  Normalize the staining of H&E histology slides.\n",
    "  \n",
    "  This function normalizes the staining of H&E histoloy slides.\n",
    "  \n",
    "  References:\n",
    "    - Macenko, Marc, et al. \"A method for normalizing histology slides for\n",
    "    quantitative analysis.\" Biomedical Imaging: From Nano to Macro, 2009.\n",
    "    ISBI'09. IEEE International Symposium on. IEEE, 2009.\n",
    "      - http://wwwx.cs.unc.edu/~mn/sites/default/files/macenko2009.pdf\n",
    "    - https://github.com/mitkovetta/staining-normalization/blob/master/normalizeStaining.m\n",
    "  \"\"\"\n",
    "  # Setup.\n",
    "  x = np.asarray(x)\n",
    "  h, w, c = x.shape\n",
    "  x = x.reshape(-1, c).astype(np.float64)  # shape (H*W, C)\n",
    "  \n",
    "  # Reference stain vectors and stain saturations.  We will normalize all slides\n",
    "  # to these references.  To create these, grab the stain vectors and stain\n",
    "  # saturations from a desirable slide.\n",
    "  ## Values in reference implementation for use with eigendecomposition approach.\n",
    "#   stain_ref = np.array([0.5626, 0.2159, 0.7201, 0.8012, 0.4062, 0.5581]).reshape(3,2)\n",
    "#   max_sat_ref = np.array([1.9705, 1.0308]).reshape(2,1)\n",
    "  ## Values for use with SVD approach.  These were computed by (1) running the\n",
    "  ## the eigendecomposition approach to normalize an image, (2) running the\n",
    "  ## SVD approach on the normalized image, and (3) recording the stain vectors\n",
    "  ## and max saturations for this (ideal) normalized image.\n",
    "#   stain_ref = np.array([0.20730702, 0.56170196, 0.80308092, 0.72012455, 0.55864554, 0.4073224]).reshape(3,2)\n",
    "#   max_sat_ref = np.array([0.99818645, 1.96029115]).reshape(2,1)\n",
    "  # SVD w/ explicitly ordered H&E stains (BEST!)\n",
    "#   stain_ref = np.array([0.5373251, 0.20661399, 0.73087638, 0.78939496, 0.42083424, 0.57807115]).reshape(3,2)\n",
    "#   max_sat_ref = np.array([1.95105957, 0.98605565]).reshape(2,1)\n",
    "  # SVD w/ explicitly ordered H&E stains & log10 OD\n",
    "  stain_ref = np.array([0.54598845, 0.322116, 0.72385198, 0.76419107, 0.42182333, 0.55879629]).reshape(3,2)\n",
    "  max_sat_ref = np.array([0.82791151, 0.61137274]).reshape(2,1)\n",
    "  \n",
    "  # SVD w/ beta=0.35\n",
    "#   stain_ref = np.array([0.323427, 0.54875885, 0.77909905, 0.72734252, 0.53702853, 0.41211234]).reshape(3,2)\n",
    "#   max_sat_ref = np.array([1.43153082, 1.73216312]).reshape(2,1)\n",
    "  \n",
    "  # Convert RGB to OD.\n",
    "#   OD = -np.log((x+1)/light_intensity)  # shape (H*W, C)\n",
    "  OD = -np.log10(x/light_intensity + 1e-8)\n",
    "  \n",
    "  # Remove data with OD intensity less than beta.\n",
    "  # I.e. remove transparent pixels.\n",
    "  # Note: This needs to be checked per channel, rather than\n",
    "  # taking an average over all channels for a given pixel.\n",
    "  #OD_thresh = OD[np.logical_not(np.any(OD < beta, 1)), :]\n",
    "  OD_thresh = OD[np.all(OD >= beta, 1), :]  # shape (K, C)\n",
    "  \n",
    "  # Calculate eigenvectors.\n",
    "#   eigvals, eigvecs = np.linalg.eig(np.cov(OD_thresh.T))  # np.cov results in inf/nans\n",
    "  U, s, V = np.linalg.svd(OD_thresh, full_matrices=False)\n",
    "  \n",
    "  # Extract two largest eigenvectors.\n",
    "  # Note: We swap the sign of the eigvecs here to be consistent\n",
    "  # with other implementations.  Both +/- eigvecs are valid, with\n",
    "  # the same eigenvalue, so this is okay.\n",
    "#   top_eigvecs = eigvecs[:, np.argsort(eigvals)[-2:]] * -1\n",
    "  top_eigvecs = V[0:2, :].T * -1  # shape (C, 2)\n",
    "  \n",
    "  # Project thresholded optical density values onto plane spanned by\n",
    "  # 2 largest eigenvectors.\n",
    "  proj = np.dot(OD_thresh, top_eigvecs)  # shape (K, 2)\n",
    "  \n",
    "  # Calculate angle of each point wrt the first plane direction.\n",
    "  # Note: the parameters are `np.arctan2(y, x)`\n",
    "  angles = np.arctan2(proj[:, 1], proj[:, 0])  # shape (K,)\n",
    "  \n",
    "  # Find robust extremes (a and 100-a percentiles) of the angle.\n",
    "  min_angle = np.percentile(angles, alpha)\n",
    "  max_angle = np.percentile(angles, 100-alpha)\n",
    "  \n",
    "  # Convert min/max vectors (extremes) back to OD space.\n",
    "#   extreme_angles = np.array(\n",
    "#     [np.cos(min_angle), np.cos(max_angle), np.sin(min_angle), np.sin(max_angle)]\n",
    "#   ).reshape(2,2)\n",
    "#   stains = np.dot(top_eigvecs, extreme_angles)  # shape (C, 2)\n",
    "  min_vec = np.dot(top_eigvecs, np.array([np.cos(min_angle), np.sin(min_angle)]).reshape(2,1))\n",
    "  max_vec = np.dot(top_eigvecs, np.array([np.cos(max_angle), np.sin(max_angle)]).reshape(2,1))\n",
    "  \n",
    "  # Merge vectors with hematoxylin first, and eosin second with a heuristic.\n",
    "  if min_vec[0] > max_vec[0]:\n",
    "    stains = np.hstack((min_vec, max_vec))\n",
    "  else:\n",
    "    stains = np.hstack((max_vec, min_vec))\n",
    "\n",
    "  # Calculate saturations of each stain.\n",
    "  # Note: Here, we solve\n",
    "  #    OD = VS\n",
    "  #     S = V^{-1}OD\n",
    "  # where `OD` is the matrix of optical density values of our image,\n",
    "  # `V` is the matrix of stain vectors, and `S` is the matrix of stain\n",
    "  # saturations.  Since this is an overdetermined system, we use the\n",
    "  # least squares solver, rather than a direct solve.\n",
    "  sats, _, _, _ = np.linalg.lstsq(stains, OD.T)\n",
    "  \n",
    "  # Normalize stain saturations.\n",
    "  max_sat = np.percentile(sats, 99, axis=1, keepdims=True)\n",
    "  sats = sats / max_sat * max_sat_ref\n",
    "  \n",
    "  # Recreate image.\n",
    "  # Note: If the image is immediately converted to uint8 with `.astype(np.uint8)`, it will\n",
    "  # not return the correct values due to the initital values being outside of [0,255].\n",
    "  # To fix this, we round to the nearest integer, and then clip to [0,255], which is the\n",
    "  # same behavior as Matlab.\n",
    "#   x_norm = np.exp(np.dot(-stain_ref, sats)) * light_intensity\n",
    "  x_norm = 10**(np.dot(-stain_ref, sats)) * light_intensity - 1e-8\n",
    "  x_norm = np.clip(np.round(x_norm), 0, 255).astype(np.uint8)\n",
    "  x_norm = x_norm.T.reshape(h,w,c)\n",
    "  \n",
    "  # Debug.\n",
    "#   print(\"OD shape: \", OD.shape)\n",
    "#   print(\"OD_thresh shape: \", OD_thresh.shape)\n",
    "#   print(\"eigvals: \", eigvals)\n",
    "#   print(\"sorted eigvals: \", np.argsort(eigvals))\n",
    "#   print(\"top_eigvecs shape: \", top_eigvecs.shape)\n",
    "#   print(\"top_eigvecs: \", top_eigvecs)\n",
    "#   print(\"top 2 eigval indices: \", np.argsort(eigvals)[-2:])\n",
    "#   print(\"proj shape: \", proj.shape)\n",
    "#   print(\"proj mean: \", np.mean(proj, axis=0))\n",
    "#   print(\"angles shape: \", angles.shape)\n",
    "#   print(\"angles mean: \", np.mean(angles))\n",
    "#   print(\"min/max angles: \", min_angle, max_angle)\n",
    "#   print(\"min_vec shape: \", min_vec.shape)\n",
    "#   print(\"min_vec mean: \", np.mean(min_vec))\n",
    "#   print(\"max_vec mean: \", np.mean(max_vec))\n",
    "#   print(\"stains shape: \", stains.shape)\n",
    "  print(\"stains: \", stains)\n",
    "#   print(\"sats shape: \", sats.shape)\n",
    "#   print(\"sats mean: \", np.mean(sats, axis=1))\n",
    "#   print(\"max_sat shape: \", max_sat.shape)\n",
    "  print(\"max_sat: \", max_sat)\n",
    "#   print(\"x_norm shape: \", x_norm.shape)\n",
    "#   print(\"x_norm mean: \", np.mean(x_norm, axis=(0,1)))\n",
    "#   print(\"x_norm min: \", np.min(x_norm, axis=(0,1)))\n",
    "#   print(\"x_norm max: \", np.max(x_norm, axis=(0,1)))\n",
    "#   print(x_norm.dtype)\n",
    "#   print()\n",
    "# #   x = x.reshape(h,w,c).astype(np.uint8)\n",
    "  \n",
    "  return x_norm"
   ]
  },
  {
   "cell_type": "code",
   "execution_count": null,
   "metadata": {
    "collapsed": false,
    "deletable": true,
    "editable": true
   },
   "outputs": [],
   "source": [
    "x1 = np.asarray(Image.open(\"staining-normalization/example1.tif\"))\n",
    "x2 = np.asarray(Image.open(\"staining-normalization/example2.tif\"))\n",
    "x3 = np.asarray(Image.open(\"literature/cancer_zoom.jpg\"))\n",
    "print(x1.dtype)\n",
    "plot(x1, x2)\n",
    "plot(x1, x3)"
   ]
  },
  {
   "cell_type": "code",
   "execution_count": null,
   "metadata": {
    "collapsed": false,
    "deletable": true,
    "editable": true,
    "scrolled": false
   },
   "outputs": [],
   "source": [
    "x1_norm = normalize_staining(x1)\n",
    "x2_norm = normalize_staining(x2)\n",
    "x3_norm = normalize_staining(x3)\n",
    "x1_norm2 = normalize_staining(x1_norm)\n",
    "plot(x1_norm, x2_norm)\n",
    "plot(x1_norm2, x3_norm)\n",
    "#Image.fromarray(x1_norm).save(\"images/x1_norm.jpg\")\n",
    "# Note: x1 mean:  [ 190.95086861  143.9767971   169.32534027] for eigendecomposition approach\n",
    "#       x1 mean:  [ 192.84288502  145.66594315  170.64605522] for SVD approach"
   ]
  },
  {
   "cell_type": "code",
   "execution_count": null,
   "metadata": {
    "collapsed": false,
    "deletable": true,
    "editable": true
   },
   "outputs": [],
   "source": [
    "# Bootstrap SVD approach using x1_norm from eigendecomposition approach\n",
    "# with `stains` and `max_sat` debugging turned on.\n",
    "x1_norm = Image.open(\"images/x1_norm.jpg\")\n",
    "x1_norm2 = normalize_staining(x1_norm)\n",
    "plot(x1_norm, x1_norm2)\n",
    "# Note: x1 mean:  [ 190.95086861  143.9767971   169.32534027] for eigenvector approach"
   ]
  },
  {
   "cell_type": "code",
   "execution_count": null,
   "metadata": {
    "collapsed": false,
    "deletable": true,
    "editable": true,
    "scrolled": false
   },
   "outputs": [],
   "source": [
    "# Check SVD approach during bootstrapping\n",
    "x1_norm_b = normalize_staining(x1)\n",
    "x2_norm_b = normalize_staining(x2)\n",
    "x3_norm_b = normalize_staining(x3)\n",
    "x1_norm2_b = normalize_staining(x1_norm)\n",
    "plot(x1_norm_b, x2_norm_b)\n",
    "plot(x1_norm2_b, x3_norm_b)"
   ]
  },
  {
   "cell_type": "code",
   "execution_count": null,
   "metadata": {
    "collapsed": false,
    "deletable": true,
    "editable": true
   },
   "outputs": [],
   "source": [
    "# Compute the x and y coordinates for points on a sine curve\n",
    "x = np.arange(0, 3 * np.pi, 0.1)\n",
    "y = np.sin(x)\n",
    "\n",
    "# Plot the points using matplotlib\n",
    "plt.plot(x, y)\n",
    "plt.show()  # You must call plt.show() to make graphics appear."
   ]
  },
  {
   "cell_type": "code",
   "execution_count": null,
   "metadata": {
    "collapsed": false,
    "deletable": true,
    "editable": true
   },
   "outputs": [],
   "source": [
    "x = np.random.randn(10, 3)\n",
    "x[np.mean(x, 1) > 0.9, :].shape"
   ]
  }
 ],
 "metadata": {
  "kernelspec": {
   "display_name": "Python 3",
   "language": "python",
   "name": "python3"
  },
  "language_info": {
   "codemirror_mode": {
    "name": "ipython",
    "version": 3
   },
   "file_extension": ".py",
   "mimetype": "text/x-python",
   "name": "python",
   "nbconvert_exporter": "python",
   "pygments_lexer": "ipython3",
   "version": "3.6.0"
  }
 },
 "nbformat": 4,
 "nbformat_minor": 2
}
